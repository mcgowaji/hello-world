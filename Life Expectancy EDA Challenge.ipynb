{
 "cells": [
  {
   "cell_type": "code",
   "execution_count": 1,
   "metadata": {},
   "outputs": [],
   "source": [
    "import pandas as pd\n",
    "import numpy as np\n",
    "import matplotlib.pyplot as plt\n",
    "import seaborn as sns\n",
    "import math\n",
    "import scipy.stats as stats\n",
    "from sklearn.preprocessing import StandardScaler\n",
    "from sklearn.decomposition import PCA\n",
    "from scipy.stats import boxcox\n",
    "from sqlalchemy import create_engine\n",
    "from scipy.stats.mstats import winsorize\n",
    "import warnings\n",
    "\n",
    "warnings.filterwarnings('ignore')"
   ]
  },
  {
   "cell_type": "code",
   "execution_count": null,
   "metadata": {},
   "outputs": [],
   "source": [
    "postgres_user = 'dsbc_student'\n",
    "postgres_pw = '7*.8G9QH21'\n",
    "postgres_host = '142.93.121.174'\n",
    "postgres_port = '5432'\n",
    "postgres_db = 'lifeexpectancy'\n",
    "table_name = 'lifeexpectancy'\n",
    "\n",
    "engine = create_engine('postgresql://{}:{}@{}:{}/{}'.format(\n",
    "    postgres_user, postgres_pw, postgres_host, postgres_port, postgres_db))\n",
    "\n",
    "life = pd.read_sql_query('select * from lifeexpectancy',con=engine)"
   ]
  },
  {
   "cell_type": "code",
   "execution_count": null,
   "metadata": {},
   "outputs": [],
   "source": [
    "#Inspect dataframe\n",
    "life.head(20)"
   ]
  },
  {
   "cell_type": "markdown",
   "metadata": {},
   "source": [
    "1. Your goal in this challenge is to find the factors that affect the life expectancy. Specifically, you need to find out which factors increase the expected life in the countries and which factors decrease it."
   ]
  },
  {
   "cell_type": "markdown",
   "metadata": {},
   "source": [
    "2. Detect the problems with the data such as missing values and outliers. Are there any nonsense values that seem to be stemmed from the data collection? For the missing values, discuss which technique would be the most suitable one in filling out these values. Regarding the outliers, discuss their potential effects on your analysis and select an appropriate method to deal with them."
   ]
  },
  {
   "cell_type": "code",
   "execution_count": null,
   "metadata": {},
   "outputs": [],
   "source": [
    "#Inspect data\n",
    "life.describe()"
   ]
  },
  {
   "cell_type": "code",
   "execution_count": null,
   "metadata": {},
   "outputs": [],
   "source": [
    "#Inspect categorical data\n",
    "life.describe(include=['O'])"
   ]
  },
  {
   "cell_type": "code",
   "execution_count": null,
   "metadata": {},
   "outputs": [],
   "source": [
    "life.info()"
   ]
  },
  {
   "cell_type": "code",
   "execution_count": null,
   "metadata": {},
   "outputs": [],
   "source": [
    "#Clean up leading/trailing spaces in column names\n",
    "new_names= list(life.columns.str.strip())\n",
    "life.columns = new_names"
   ]
  },
  {
   "cell_type": "code",
   "execution_count": null,
   "metadata": {
    "scrolled": true
   },
   "outputs": [],
   "source": [
    "#In WHO's 'about' section, thinness 1-19 years explained as thinness\n",
    "#stats gathered regarding citizens 10-19 years old. Renaming to clarify.\n",
    "life.rename(columns={'thinness  1-19 years': 'thinness 10-19 years'}, inplace=True)"
   ]
  },
  {
   "cell_type": "code",
   "execution_count": null,
   "metadata": {},
   "outputs": [],
   "source": [
    "#Find max and min years to use for interpolation exceptions\n",
    "print('Max Year:', max(life.Year), 'Min Year:', min(life.Year))"
   ]
  },
  {
   "cell_type": "code",
   "execution_count": null,
   "metadata": {},
   "outputs": [],
   "source": [
    "#Time series data- best method is interpolation. \n",
    "if [life.Year== 2000]:\n",
    "    life.fillna(method='bfill', inplace=True)\n",
    "elif [life.Year ==2015]:\n",
    "    life.fillna(method='ffill', inplace=True)    \n",
    "else:\n",
    "    life.interpolate(inplace=True)"
   ]
  },
  {
   "cell_type": "code",
   "execution_count": null,
   "metadata": {},
   "outputs": [],
   "source": [
    "#Replace 0's with column mean\n",
    "infant_death_mean= life.loc[life['infant deaths']!=0, 'infant deaths'].mean()\n",
    "life['infant deaths']= life['infant deaths'].replace(0, infant_death_mean)"
   ]
  },
  {
   "cell_type": "code",
   "execution_count": null,
   "metadata": {},
   "outputs": [],
   "source": [
    "#Check whether all nulls are filled\n",
    "life.isnull().sum()*100/life.isnull().count()"
   ]
  },
  {
   "cell_type": "code",
   "execution_count": null,
   "metadata": {
    "scrolled": true
   },
   "outputs": [],
   "source": [
    "sns.set_style('whitegrid')\n",
    "\n",
    "plt.hist(life['infant deaths'])\n",
    "plt.title('Distribution of infant deaths variable')"
   ]
  },
  {
   "cell_type": "markdown",
   "metadata": {},
   "source": [
    "Infant Deaths has a strong right skew- one way winsorization will help eliminate outliers."
   ]
  },
  {
   "cell_type": "code",
   "execution_count": null,
   "metadata": {},
   "outputs": [],
   "source": [
    "#Winsorize right skew\n",
    "life['infant deaths']= winsorize(life['infant deaths'], (0, 0.10))"
   ]
  },
  {
   "cell_type": "code",
   "execution_count": null,
   "metadata": {},
   "outputs": [],
   "source": [
    "#Display histogram distributions of next nine variables\n",
    "plt.figure(figsize=(20, 20))\n",
    "\n",
    "plt.subplot(3, 3, 1)\n",
    "plt.hist(life['Adult Mortality'])\n",
    "plt.title('Distribution of Adult Mortality')\n",
    "\n",
    "plt.subplot(3, 3, 2)\n",
    "plt.hist(life['Hepatitis B'])\n",
    "plt.title('Distribution of Hepatitis B')\n",
    "\n",
    "plt.subplot(3, 3, 3)\n",
    "plt.hist(life['under-five deaths'])\n",
    "plt.title('Distribution of Child Deaths Under 5')\n",
    "\n",
    "plt.subplot(3, 3, 4)\n",
    "plt.hist(life['Polio'])\n",
    "plt.title('Distribution of Polio')\n",
    "\n",
    "plt.subplot(3, 3, 5)\n",
    "plt.hist(life['Measles'])\n",
    "plt.title('Distribution of Measles')\n",
    "\n",
    "plt.subplot(3, 3, 6)\n",
    "plt.hist(life['Total expenditure'])\n",
    "plt.title('Distribution of Total expenditure')\n",
    "\n",
    "plt.subplot(3, 3, 7)\n",
    "plt.hist(life['GDP'])\n",
    "plt.title('Distribution of GDP')\n",
    "\n",
    "plt.subplot(3, 3, 8)\n",
    "plt.hist(life['BMI'])\n",
    "plt.title('Distribution of BMI')\n",
    "\n",
    "plt.subplot(3, 3, 9)\n",
    "plt.hist(life['Diphtheria'])\n",
    "plt.title('Distribution of Diphtheria')\n",
    "\n",
    "plt.suptitle('Distributions of Variables Pt. 1')"
   ]
  },
  {
   "cell_type": "markdown",
   "metadata": {},
   "source": [
    "Child Deaths, GDP, and Measles have some major outliers on the right- they will need to be log transformed. Polio and Diphtheria have left outliers, which we will one-way winsorize."
   ]
  },
  {
   "cell_type": "code",
   "execution_count": null,
   "metadata": {},
   "outputs": [],
   "source": [
    "#Log transform first variables, adding constants to make all values positive\n",
    "life['under_five_deaths_log']= np.log(life['under-five deaths']+4.473)\n",
    "life['GDP_log'] = np.log(life['GDP']+5.304)\n",
    "life['Measles_log']= np.log(life['Measles']+5.835)\n",
    "\n",
    "#Winsorizing Polio and Diphtheria\n",
    "life['Polio']= winsorize(life['Polio'], (0.10, 0))\n",
    "life['Diphtheria']= winsorize(life['Diphtheria'], (0.10, 0))\n",
    "life['Adult Mortality']=winsorize(life['Adult Mortality'], (0, 0.05))"
   ]
  },
  {
   "cell_type": "code",
   "execution_count": null,
   "metadata": {},
   "outputs": [],
   "source": [
    "plt.figure(figsize=(10, 15))\n",
    "\n",
    "plt.subplot(2, 3, 1)\n",
    "plt.hist(life['under_five_deaths_log'])\n",
    "plt.title('U-5 Deaths log transformed')\n",
    "\n",
    "plt.subplot(2, 3, 2)\n",
    "plt.hist(life['GDP_log'])\n",
    "plt.title('GDP log transformed')\n",
    "\n",
    "plt.subplot(2, 3, 3)\n",
    "plt.hist(life['Measles_log'])\n",
    "plt.title('Measles log transformed')\n",
    "\n",
    "plt.subplot(2, 3, 4)\n",
    "plt.hist(life['Adult Mortality'])\n",
    "plt.title('Adult Mortality log transformed')\n",
    "\n",
    "plt.subplot(2, 3, 5)\n",
    "plt.hist(life['Polio'])\n",
    "plt.title('Polio winsorized')\n",
    "\n",
    "plt.subplot(2, 3, 6)\n",
    "plt.hist(life['Diphtheria'])\n",
    "plt.title('Diphtheria winsorized')\n",
    "\n",
    "plt.show()"
   ]
  },
  {
   "cell_type": "code",
   "execution_count": null,
   "metadata": {},
   "outputs": [],
   "source": [
    "#Check remaining outliers using Tukey's method\n",
    "q75, q25 = np.percentile(life['Adult Mortality'], [75 ,25])\n",
    "iqr = q75 - q25\n",
    "\n",
    "for threshold in np.arange(1,5,0.5):\n",
    "    min_val = q25 - (iqr*threshold)\n",
    "    max_val = q75 + (iqr*threshold)\n",
    "    print(\"The score threshold is: {}\".format(threshold))\n",
    "    print(\"Number of outliers is: {}\".format(\n",
    "        len((np.where((life['Adult Mortality'] > max_val) \n",
    "                      | (life['Adult Mortality'] < min_val))[0]))\n",
    "    ))"
   ]
  },
  {
   "cell_type": "code",
   "execution_count": null,
   "metadata": {},
   "outputs": [],
   "source": [
    "#Conduct Box-Cox transformations for remaining variables\n",
    "life['hepatitis_b_boxcox'], _= boxcox(life['Hepatitis B'])\n",
    "life['total_expenditure_boxcox'], _= boxcox(life['Total expenditure'])\n",
    "life['bmi_boxcox'], _= boxcox(life['BMI'])"
   ]
  },
  {
   "cell_type": "code",
   "execution_count": null,
   "metadata": {
    "scrolled": false
   },
   "outputs": [],
   "source": [
    "#Checking distributions round 2\n",
    "plt.figure(figsize=(20, 20))\n",
    "\n",
    "plt.subplot(3, 3, 1)\n",
    "plt.hist(life['Life expectancy'])\n",
    "plt.title('Distribution of Life Expectancy')\n",
    "\n",
    "plt.subplot(3, 3, 2)\n",
    "plt.hist(life['Alcohol'])\n",
    "plt.title('Distribution of Alcohol')\n",
    "\n",
    "plt.subplot(3, 3, 3)\n",
    "plt.hist(life['percentage expenditure'])\n",
    "plt.title('Distribution of percentage expenditure')\n",
    "\n",
    "plt.subplot(3, 3, 4)\n",
    "plt.hist(life['HIV/AIDS'])\n",
    "plt.title('Distribution of HIV/AIDS')\n",
    "\n",
    "plt.subplot(3, 3, 5)\n",
    "plt.hist(life['Population'])\n",
    "plt.title('Distribution of Population')\n",
    "\n",
    "plt.subplot(3, 3, 6)\n",
    "plt.hist(life['thinness 10-19 years'])\n",
    "plt.title('Distribution of thinness  1-19 years')\n",
    "\n",
    "plt.subplot(3, 3, 7)\n",
    "plt.hist(life['thinness 5-9 years'])\n",
    "plt.title('Distribution of thinness 5-9 years')\n",
    "\n",
    "plt.subplot(3, 3, 8)\n",
    "plt.hist(life['Income composition of resources'])\n",
    "plt.title('Distribution of Income composition of resources')\n",
    "\n",
    "plt.subplot(3, 3, 9)\n",
    "plt.hist(life['Schooling'])\n",
    "plt.title('Distribution of Schooling')\n",
    "\n",
    "plt.suptitle('Distributions of Variables, Pt. 2')"
   ]
  },
  {
   "cell_type": "markdown",
   "metadata": {},
   "source": [
    "percentage expenditure, HIV/AIDS, Alcohol, thinness(both), Population, all have right strong right skews that should be winsorized. "
   ]
  },
  {
   "cell_type": "code",
   "execution_count": null,
   "metadata": {},
   "outputs": [],
   "source": [
    "#Winsorizing \n",
    "life['percentage expenditure'] = winsorize(life['percentage expenditure'], (0, 0.10))\n",
    "life['HIV/AIDS'] = winsorize(life['HIV/AIDS'], (0, 0.05))\n",
    "life['thinness 10-19 years'] = winsorize(life['thinness 10-19 years'], (0, 0.05))\n",
    "life['thinness 5-9 years'] = winsorize(life['thinness 5-9 years'], (0, 0.05))\n",
    "life['Population'] = winsorize(life['Population'], (0, 0.10))\n",
    "life['Alcohol'] = winsorize(life['Alcohol'], (0, 0.05))"
   ]
  },
  {
   "cell_type": "code",
   "execution_count": null,
   "metadata": {
    "scrolled": true
   },
   "outputs": [],
   "source": [
    "#Using Tukey's method, test winsorized versions for outliers\n",
    "\n",
    "print('-----------')    \n",
    "print('Outliers for percentage expenditure:')\n",
    "print('-----------')\n",
    "q75, q25 = np.percentile(life['percentage expenditure'], [75 ,25])\n",
    "iqr = q75 - q25\n",
    "\n",
    "for threshold in np.arange(1,5,0.5):\n",
    "    min_val = q25 - (iqr*threshold)\n",
    "    max_val = q75 + (iqr*threshold)\n",
    "    print(\"The score threshold is: {}\".format(threshold))\n",
    "    print(\"Number of outliers is: {}\".format(\n",
    "        len((np.where((life['percentage expenditure'] > max_val) \n",
    "                      | (life['percentage expenditure'] < min_val))[0]))\n",
    "    ))\n",
    "\n",
    "print('-----------')    \n",
    "print('Outliers for HIV/AIDS:')\n",
    "print('-----------')\n",
    "q75, q25 = np.percentile(life['HIV/AIDS'], [75 ,25])\n",
    "iqr = q75 - q25\n",
    "\n",
    "for threshold in np.arange(1,5,0.5):\n",
    "    min_val = q25 - (iqr*threshold)\n",
    "    max_val = q75 + (iqr*threshold)\n",
    "    print(\"The score threshold is: {}\".format(threshold))\n",
    "    print(\"Number of outliers is: {}\".format(\n",
    "        len((np.where((life['HIV/AIDS'] > max_val) \n",
    "                      | (life['HIV/AIDS'] < min_val))[0]))\n",
    "    ))\n",
    "\n",
    "print('-----------')    \n",
    "print('Outliers for thinness 10-19 years:')\n",
    "print('-----------')\n",
    "q75, q25 = np.percentile(life['thinness 10-19 years'], [75 ,25])\n",
    "iqr = q75 - q25\n",
    "\n",
    "for threshold in np.arange(1,5,0.5):\n",
    "    min_val = q25 - (iqr*threshold)\n",
    "    max_val = q75 + (iqr*threshold)\n",
    "    print(\"The score threshold is: {}\".format(threshold))\n",
    "    print(\"Number of outliers is: {}\".format(\n",
    "        len((np.where((life['thinness 10-19 years'] > max_val) \n",
    "                      | (life['thinness 10-19 years'] < min_val))[0]))\n",
    "    ))\n",
    "\n",
    "print('-----------')    \n",
    "print('Outliers for thinness 5-9 years:')\n",
    "print('-----------')\n",
    "q75, q25 = np.percentile(life['thinness 5-9 years'], [75 ,25])\n",
    "iqr = q75 - q25\n",
    "\n",
    "for threshold in np.arange(1,5,0.5):\n",
    "    min_val = q25 - (iqr*threshold)\n",
    "    max_val = q75 + (iqr*threshold)\n",
    "    print(\"The score threshold is: {}\".format(threshold))\n",
    "    print(\"Number of outliers is: {}\".format(\n",
    "        len((np.where((life['thinness 5-9 years'] > max_val) \n",
    "                      | (life['thinness 5-9 years'] < min_val))[0]))\n",
    "    ))\n",
    "    \n",
    "print('-----------')    \n",
    "print('Outliers for Population:')\n",
    "print('-----------')\n",
    "q75, q25 = np.percentile(life['Population'], [75 ,25])\n",
    "iqr = q75 - q25\n",
    "\n",
    "for threshold in np.arange(1,5,0.5):\n",
    "    min_val = q25 - (iqr*threshold)\n",
    "    max_val = q75 + (iqr*threshold)\n",
    "    print(\"The score threshold is: {}\".format(threshold))\n",
    "    print(\"Number of outliers is: {}\".format(\n",
    "        len((np.where((life['Population'] > max_val) \n",
    "                      | (life['Population'] < min_val))[0]))\n",
    "    ))\n",
    "    \n",
    "print('-----------')    \n",
    "print('Outliers for Alcohol:')\n",
    "print('-----------')\n",
    "q75, q25 = np.percentile(life['Alcohol'], [75 ,25])\n",
    "iqr = q75 - q25\n",
    "\n",
    "for threshold in np.arange(1,5,0.5):\n",
    "    min_val = q25 - (iqr*threshold)\n",
    "    max_val = q75 + (iqr*threshold)\n",
    "    print(\"The score threshold is: {}\".format(threshold))\n",
    "    print(\"Number of outliers is: {}\".format(\n",
    "        len((np.where((life['Alcohol'] > max_val) \n",
    "                      | (life['Alcohol'] < min_val))[0]))\n",
    "    ))"
   ]
  },
  {
   "cell_type": "markdown",
   "metadata": {},
   "source": [
    "Winsorization had very little effect on eliminating outliers in percentage expenditure and HIV/AIDS, so we will box-cox transform those along with the remaining variables. "
   ]
  },
  {
   "cell_type": "code",
   "execution_count": null,
   "metadata": {},
   "outputs": [],
   "source": [
    "#Conduct Box-Cox transformations on remaining variables\n",
    "life['income_composition_of_resources_boxcox'], _= boxcox(life['Income composition of resources']+0.001)\n",
    "life['schooling_boxcox'], _= boxcox(life['Schooling']+0.001)\n",
    "life['percentage expenditure'], _= boxcox(life['percentage expenditure']+0.01)\n",
    "life['HIV/AIDS'], _= boxcox(life['HIV/AIDS']+0.01)"
   ]
  },
  {
   "cell_type": "markdown",
   "metadata": {},
   "source": [
    "_Explore the data using univariate and multivariate exploration techniques. You should pay special attention to your target variable. In this regard, your focus should be on finding the relevant variables that may affect life expectancy._"
   ]
  },
  {
   "cell_type": "code",
   "execution_count": null,
   "metadata": {
    "scrolled": false
   },
   "outputs": [],
   "source": [
    "#Explore original variable correlations with Life Expectancy\n",
    "plt.figure(figsize=(20, 20))\n",
    "\n",
    "plt.subplot(3, 3, 1)\n",
    "plt.scatter(life['Life expectancy'], life['Adult Mortality'])\n",
    "plt.xlabel('Life Expectancy(years)')\n",
    "plt.ylabel('Adult Mortality')\n",
    "plt.title('Life expectancy vs. Adult Mortality')\n",
    "\n",
    "plt.subplot(3, 3, 2)\n",
    "plt.scatter(life['Life expectancy'], life['infant deaths'])\n",
    "plt.xlabel('Life Expectancy(years)')\n",
    "plt.ylabel('Infant Deaths')\n",
    "plt.title('Life expectancy vs. infant deaths')\n",
    "\n",
    "plt.subplot(3, 3, 3)\n",
    "plt.scatter(life['Life expectancy'], life['Alcohol'])\n",
    "plt.xlabel('Life Expectancy(years)')\n",
    "plt.ylabel('Alcohol')\n",
    "plt.title('Life expectancy vs. Alcohol')\n",
    "\n",
    "plt.subplot(3, 3, 4)\n",
    "plt.scatter(life['Life expectancy'], life['percentage expenditure'])\n",
    "plt.xlabel('Life Expectancy(years)')\n",
    "plt.ylabel('Percentage Expenditure')\n",
    "plt.title('Life expectancy vs. Percentage Expenditure')\n",
    "\n",
    "plt.subplot(3, 3, 5)\n",
    "plt.scatter(life['Life expectancy'], life['Hepatitis B'])\n",
    "plt.xlabel('Life Expectancy(years)')\n",
    "plt.ylabel('Hepatitis B')\n",
    "plt.title('Life expectancy vs. Hepatitis B')\n",
    "\n",
    "plt.subplot(3, 3, 6)\n",
    "plt.scatter(life['Life expectancy'], life['Measles'])\n",
    "plt.xlabel('Life Expectancy(years)')\n",
    "plt.ylabel('Measles')\n",
    "plt.title('Life expectancy vs. Measles')\n",
    "\n",
    "plt.subplot(3, 3, 7)\n",
    "plt.scatter(life['Life expectancy'], life['BMI'])\n",
    "plt.xlabel('Life Expectancy(years)')\n",
    "plt.ylabel('BMI')\n",
    "plt.title('Life expectancy vs. BMI')\n",
    "\n",
    "plt.subplot(3, 3, 8)\n",
    "plt.scatter(life['Life expectancy'], life['under-five deaths'])\n",
    "plt.xlabel('Life Expectancy(years)')\n",
    "plt.ylabel('Under Five Deaths')\n",
    "plt.title('Life expectancy vs. Under Five Deaths')\n",
    "\n",
    "plt.subplot(3, 3, 9)\n",
    "plt.scatter(life['Life expectancy'], life['Polio'])\n",
    "plt.xlabel('Life Expectancy(years)')\n",
    "plt.ylabel('Polio')\n",
    "plt.title('Life expectancy vs. Polio')\n",
    "\n",
    "plt.tight_layout()\n",
    "plt.show()"
   ]
  },
  {
   "cell_type": "markdown",
   "metadata": {},
   "source": [
    "Adult Mortality, infant deaths, and under-five death rates all have a negative correlation as life expectancy increases. "
   ]
  },
  {
   "cell_type": "code",
   "execution_count": null,
   "metadata": {},
   "outputs": [],
   "source": [
    "#Compare original variables against Life expectancy\n",
    "plt.figure(figsize=(20, 20))\n",
    "\n",
    "plt.subplot(3, 3, 1)\n",
    "plt.scatter(life['Life expectancy'], life['Total expenditure'])\n",
    "plt.xlabel('Life Expectancy(years)')\n",
    "plt.ylabel('Total expenditure')\n",
    "plt.title('Life expectancy vs. Total expenditure')\n",
    "\n",
    "plt.subplot(3, 3, 2)\n",
    "plt.scatter(life['Life expectancy'], life['Diphtheria'])\n",
    "plt.xlabel('Life Expectancy(years)')\n",
    "plt.ylabel('Diphtheria')\n",
    "plt.title('Life expectancy vs. Diphtheria')\n",
    "\n",
    "plt.subplot(3, 3, 3)\n",
    "plt.scatter(life['Life expectancy'], (life['HIV/AIDS']))\n",
    "plt.xlabel('Life Expectancy(years)')\n",
    "plt.ylabel('HIV/AIDS')\n",
    "plt.title('Life expectancy vs. HIV/AIDS')\n",
    "\n",
    "plt.subplot(3, 3, 4)\n",
    "plt.scatter(life['Life expectancy'], life['GDP'])\n",
    "plt.xlabel('Life Expectancy(years)')\n",
    "plt.ylabel('GDP')\n",
    "plt.title('Life expectancy vs. GDP')\n",
    "\n",
    "plt.subplot(3, 3, 5)\n",
    "plt.scatter(life['Life expectancy'], life['Population'])\n",
    "plt.xlabel('Life Expectancy(years)')\n",
    "plt.ylabel('Population')\n",
    "plt.title('Life expectancy vs. Population')\n",
    "\n",
    "plt.subplot(3, 3, 6)\n",
    "plt.scatter(life['Life expectancy'], life['thinness 10-19 years'])\n",
    "plt.xlabel('Life Expectancy(years)')\n",
    "plt.ylabel('thinness 10-19 years')\n",
    "plt.title('Life expectancy vs. thinness 10-19 years')\n",
    "\n",
    "plt.subplot(3, 3, 7)\n",
    "plt.scatter(life['Life expectancy'], life['thinness 5-9 years'])\n",
    "plt.xlabel('Life Expectancy(years)')\n",
    "plt.ylabel('thinness 5-9 years')\n",
    "plt.title('Life expectancy vs. thinness 5-9 years')\n",
    "\n",
    "plt.subplot(3, 3, 8)\n",
    "plt.scatter(life['Life expectancy'], life['Income composition of resources'])\n",
    "plt.xlabel('Life Expectancy(years)')\n",
    "plt.ylabel('Income composition of resources')\n",
    "plt.title('Life expectancy vs. Income composition of resources')\n",
    "\n",
    "plt.subplot(3, 3, 9)\n",
    "plt.scatter(life['Life expectancy'], life['Schooling'])\n",
    "plt.xlabel('Life Expectancy(years)')\n",
    "plt.ylabel('Schooling')\n",
    "plt.title('Life expectancy vs. Schooling')\n",
    "\n",
    "plt.tight_layout()\n",
    "plt.show()"
   ]
  },
  {
   "cell_type": "markdown",
   "metadata": {},
   "source": [
    "HIV/AIDS appears to have an exponential negative correlation as Expectancy increases, while GDP has an exponential positive correlation. Income composition of resources and Schooling have a positive, almost linear, correlation. "
   ]
  },
  {
   "cell_type": "code",
   "execution_count": null,
   "metadata": {},
   "outputs": [],
   "source": [
    "#Hot encode Status\n",
    "pd.get_dummies(life['Status'], drop_first=True)\n",
    "life= pd.concat([life, pd.get_dummies(life['Status'], drop_first=True)], axis=1)"
   ]
  },
  {
   "cell_type": "code",
   "execution_count": null,
   "metadata": {
    "scrolled": false
   },
   "outputs": [],
   "source": [
    "#Inspect heatmap of continuous variables\n",
    "plt.figure(figsize=(30, 30))\n",
    "\n",
    "life_corrmat= life.corr()\n",
    "\n",
    "sns.heatmap(life_corrmat, square=True, annot=True, linewidth=1)"
   ]
  },
  {
   "cell_type": "markdown",
   "metadata": {},
   "source": [
    "Of the original variables, income composition of resources and Schooling have the highest correlation with Life Expectancy, while Adult Mortality has the strongest negative correlation. Of the transformed variables, HIV/AIDS has a strong negative correlation and income composition of resources boxcox has an even stronger correlation."
   ]
  },
  {
   "cell_type": "code",
   "execution_count": null,
   "metadata": {},
   "outputs": [],
   "source": [
    "#Drop variables having weak correlation with life expectancy\n",
    "life= life.drop(columns={'infant deaths', 'Hepatitis B', 'Measles', 'Measles_log', 'Diphtheria',\n",
    "                         'hepatitis_b_boxcox', 'under-five deaths', 'Population', \n",
    "                         'Total expenditure', 'Developing', 'total_expenditure_boxcox', 'BMI',\n",
    "                        'thinness 10-19 years', 'thinness 5-9 years', 'percentage expenditure',\n",
    "                        'GDP', 'Alcohol', 'Income composition of resources', 'Schooling', 'schooling_boxcox'})"
   ]
  },
  {
   "cell_type": "code",
   "execution_count": null,
   "metadata": {},
   "outputs": [],
   "source": [
    "#Standardize variables for PCA\n",
    "life2= life.copy()\n",
    "life2= life2.drop(columns={'Year', 'Country', 'Status'})"
   ]
  },
  {
   "cell_type": "code",
   "execution_count": null,
   "metadata": {},
   "outputs": [],
   "source": [
    "X=StandardScaler().fit_transform(life2)\n",
    "Xt=X.T\n",
    "Cx=np.cov(Xt)"
   ]
  },
  {
   "cell_type": "code",
   "execution_count": null,
   "metadata": {},
   "outputs": [],
   "source": [
    "eig_val_cov, eig_vec_cov= np.linalg.eig(Cx)"
   ]
  },
  {
   "cell_type": "code",
   "execution_count": null,
   "metadata": {},
   "outputs": [],
   "source": [
    "plt.plot(eig_val_cov)\n",
    "plt.title('Scree plot of Eigenvalues')\n",
    "plt.show()\n",
    "print(list(eig_val_cov))"
   ]
  },
  {
   "cell_type": "markdown",
   "metadata": {},
   "source": [
    "The >1 rule and scree plot dictate we should keep 1 component."
   ]
  },
  {
   "cell_type": "code",
   "execution_count": null,
   "metadata": {},
   "outputs": [],
   "source": [
    "#PCA time\n",
    "sklearn_pca = PCA(n_components=1)\n",
    "life2[\"pca_1\"] = sklearn_pca.fit_transform(X)\n",
    "life2[\"pca_1\"]"
   ]
  },
  {
   "cell_type": "code",
   "execution_count": null,
   "metadata": {},
   "outputs": [],
   "source": [
    "#Examine \n",
    "print('The percentage of variance explained by each component in the PCA:', \n",
    "     list(eig_val_cov/sum(eig_val_cov)*100))\n",
    "\n",
    "lst_eig_val_pcts= list(eig_val_cov/sum(eig_val_cov)*100)\n",
    "\n",
    "print('The first component holds {} percent of the dataset variance.'.format(int(sum(lst_eig_val_pcts[:1]))))"
   ]
  },
  {
   "cell_type": "code",
   "execution_count": null,
   "metadata": {},
   "outputs": [],
   "source": [
    "life2[['Life expectancy', 'pca_1']].corr()"
   ]
  },
  {
   "cell_type": "markdown",
   "metadata": {},
   "source": [
    "The PCA generated has a correlation coefficient lower than -.8, so this may be unstable in future principal component estimations."
   ]
  },
  {
   "cell_type": "markdown",
   "metadata": {},
   "source": [
    "_In the feature engineering step, you need to select a suite of variables that you think would be ideal in the modeling phase. More concretely, you may discard some variables that are very correlated with the other ones or the variables that you think irrelevant with the life expectancy._"
   ]
  },
  {
   "cell_type": "code",
   "execution_count": null,
   "metadata": {},
   "outputs": [],
   "source": [
    "print('These variables have a strong relationship with life expectancy, and will be best utilized in the modeling phase: \\n {}'.format(list(life2.columns[:-1])))"
   ]
  },
  {
   "cell_type": "markdown",
   "metadata": {},
   "source": [
    "_Summarize your findings. One of the most important skills of a data scientist is to convey ideas and findings to nontechnical people using understandable language. In this regard, one of the most effective ways to communicate your ideas is to do it using effective visualization._"
   ]
  },
  {
   "cell_type": "code",
   "execution_count": null,
   "metadata": {},
   "outputs": [],
   "source": [
    "#Checking updated heatmap\n",
    "plt.figure(figsize=(30, 30))\n",
    "\n",
    "life_corrmat= life.corr()\n",
    "\n",
    "sns.heatmap(life_corrmat, square=True, annot=True, linewidth=1)"
   ]
  },
  {
   "cell_type": "markdown",
   "metadata": {},
   "source": [
    "This heatmap shows the correlation of the remaining variables to our target variable: Life expectancy. A score further away from 0 predicts a stronger correlation. HIV/AIDS and Income composition of resources appear to have the strongest correlation with life expectancy, so as rates of HIV/AIDS increase, life expectancy decreases, and as income composition of resources increase, as do life expectancies. Note that no values >0.8 or < -0.8 are remaining, as they will interfere with the next phases of modeling. "
   ]
  }
 ],
 "metadata": {
  "kernelspec": {
   "display_name": "Python 3",
   "language": "python",
   "name": "python3"
  },
  "language_info": {
   "codemirror_mode": {
    "name": "ipython",
    "version": 3
   },
   "file_extension": ".py",
   "mimetype": "text/x-python",
   "name": "python",
   "nbconvert_exporter": "python",
   "pygments_lexer": "ipython3",
   "version": "3.7.2"
  }
 },
 "nbformat": 4,
 "nbformat_minor": 2
}
