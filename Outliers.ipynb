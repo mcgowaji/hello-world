{
 "cells": [
  {
   "cell_type": "code",
   "execution_count": 79,
   "metadata": {},
   "outputs": [],
   "source": [
    "#import tools\n",
    "import pandas as pd\n",
    "import numpy as np\n",
    "from sqlalchemy import create_engine\n",
    "from scipy.stats.mstats import winsorize\n",
    "import warnings\n",
    "import psycopg2\n",
    "import matplotlib.pyplot as plt\n",
    "\n",
    "warnings.filterwarnings('ignore')"
   ]
  },
  {
   "cell_type": "code",
   "execution_count": 80,
   "metadata": {},
   "outputs": [],
   "source": [
    "#import data from Kaggle\n",
    "postgres_user = 'dsbc_student'\n",
    "postgres_pw = '7*.8G9QH21'\n",
    "postgres_host = '142.93.121.174'\n",
    "postgres_port = '5432'\n",
    "postgres_db = 'useducation'\n",
    "\n",
    "engine= create_engine('postgresql://{}:{}@{}:{}/{}'.format(\n",
    "    postgres_user, postgres_pw, postgres_host, postgres_port, postgres_db))\n",
    "education= pd.read_sql_query('select * from useducation', con=engine)\n",
    "\n",
    "engine.dispose()"
   ]
  },
  {
   "cell_type": "code",
   "execution_count": 81,
   "metadata": {},
   "outputs": [
    {
     "data": {
      "text/html": [
       "<div>\n",
       "<style scoped>\n",
       "    .dataframe tbody tr th:only-of-type {\n",
       "        vertical-align: middle;\n",
       "    }\n",
       "\n",
       "    .dataframe tbody tr th {\n",
       "        vertical-align: top;\n",
       "    }\n",
       "\n",
       "    .dataframe thead th {\n",
       "        text-align: right;\n",
       "    }\n",
       "</style>\n",
       "<table border=\"1\" class=\"dataframe\">\n",
       "  <thead>\n",
       "    <tr style=\"text-align: right;\">\n",
       "      <th></th>\n",
       "      <th>PRIMARY_KEY</th>\n",
       "      <th>STATE</th>\n",
       "      <th>YEAR</th>\n",
       "      <th>ENROLL</th>\n",
       "      <th>TOTAL_REVENUE</th>\n",
       "      <th>FEDERAL_REVENUE</th>\n",
       "      <th>STATE_REVENUE</th>\n",
       "      <th>LOCAL_REVENUE</th>\n",
       "      <th>TOTAL_EXPENDITURE</th>\n",
       "      <th>INSTRUCTION_EXPENDITURE</th>\n",
       "      <th>...</th>\n",
       "      <th>GRADES_4_G</th>\n",
       "      <th>GRADES_8_G</th>\n",
       "      <th>GRADES_12_G</th>\n",
       "      <th>GRADES_1_8_G</th>\n",
       "      <th>GRADES_9_12_G</th>\n",
       "      <th>GRADES_ALL_G</th>\n",
       "      <th>AVG_MATH_4_SCORE</th>\n",
       "      <th>AVG_MATH_8_SCORE</th>\n",
       "      <th>AVG_READING_4_SCORE</th>\n",
       "      <th>AVG_READING_8_SCORE</th>\n",
       "    </tr>\n",
       "  </thead>\n",
       "  <tbody>\n",
       "    <tr>\n",
       "      <th>0</th>\n",
       "      <td>1992_ALABAMA</td>\n",
       "      <td>ALABAMA</td>\n",
       "      <td>1992</td>\n",
       "      <td>NaN</td>\n",
       "      <td>2678885.0</td>\n",
       "      <td>304177.0</td>\n",
       "      <td>1659028.0</td>\n",
       "      <td>715680.0</td>\n",
       "      <td>2653798.0</td>\n",
       "      <td>1481703.0</td>\n",
       "      <td>...</td>\n",
       "      <td>57948.0</td>\n",
       "      <td>58025.0</td>\n",
       "      <td>41167.0</td>\n",
       "      <td>471564.0</td>\n",
       "      <td>196386.0</td>\n",
       "      <td>676174.0</td>\n",
       "      <td>208.327876</td>\n",
       "      <td>252.187522</td>\n",
       "      <td>207.963517</td>\n",
       "      <td>NaN</td>\n",
       "    </tr>\n",
       "    <tr>\n",
       "      <th>52</th>\n",
       "      <td>1993_ALABAMA</td>\n",
       "      <td>ALABAMA</td>\n",
       "      <td>1993</td>\n",
       "      <td>727716.0</td>\n",
       "      <td>2827391.0</td>\n",
       "      <td>331409.0</td>\n",
       "      <td>1729295.0</td>\n",
       "      <td>766687.0</td>\n",
       "      <td>2833433.0</td>\n",
       "      <td>1564558.0</td>\n",
       "      <td>...</td>\n",
       "      <td>57497.0</td>\n",
       "      <td>60004.0</td>\n",
       "      <td>39900.0</td>\n",
       "      <td>470775.0</td>\n",
       "      <td>198651.0</td>\n",
       "      <td>677690.0</td>\n",
       "      <td>NaN</td>\n",
       "      <td>NaN</td>\n",
       "      <td>NaN</td>\n",
       "      <td>NaN</td>\n",
       "    </tr>\n",
       "    <tr>\n",
       "      <th>104</th>\n",
       "      <td>1994_ALABAMA</td>\n",
       "      <td>ALABAMA</td>\n",
       "      <td>1994</td>\n",
       "      <td>730004.0</td>\n",
       "      <td>2970223.0</td>\n",
       "      <td>331823.0</td>\n",
       "      <td>1850894.0</td>\n",
       "      <td>787506.0</td>\n",
       "      <td>3103266.0</td>\n",
       "      <td>1697593.0</td>\n",
       "      <td>...</td>\n",
       "      <td>56773.0</td>\n",
       "      <td>59165.0</td>\n",
       "      <td>41730.0</td>\n",
       "      <td>468472.0</td>\n",
       "      <td>201285.0</td>\n",
       "      <td>678808.0</td>\n",
       "      <td>NaN</td>\n",
       "      <td>NaN</td>\n",
       "      <td>NaN</td>\n",
       "      <td>NaN</td>\n",
       "    </tr>\n",
       "    <tr>\n",
       "      <th>157</th>\n",
       "      <td>1995_ALABAMA</td>\n",
       "      <td>ALABAMA</td>\n",
       "      <td>1995</td>\n",
       "      <td>727480.0</td>\n",
       "      <td>3367437.0</td>\n",
       "      <td>328957.0</td>\n",
       "      <td>2161366.0</td>\n",
       "      <td>877114.0</td>\n",
       "      <td>3353363.0</td>\n",
       "      <td>1851700.0</td>\n",
       "      <td>...</td>\n",
       "      <td>56486.0</td>\n",
       "      <td>59914.0</td>\n",
       "      <td>40981.0</td>\n",
       "      <td>470246.0</td>\n",
       "      <td>206840.0</td>\n",
       "      <td>686410.0</td>\n",
       "      <td>NaN</td>\n",
       "      <td>NaN</td>\n",
       "      <td>NaN</td>\n",
       "      <td>NaN</td>\n",
       "    </tr>\n",
       "    <tr>\n",
       "      <th>209</th>\n",
       "      <td>1996_ALABAMA</td>\n",
       "      <td>ALABAMA</td>\n",
       "      <td>1996</td>\n",
       "      <td>735912.0</td>\n",
       "      <td>3365113.0</td>\n",
       "      <td>334858.0</td>\n",
       "      <td>2138717.0</td>\n",
       "      <td>891538.0</td>\n",
       "      <td>3572283.0</td>\n",
       "      <td>1987018.0</td>\n",
       "      <td>...</td>\n",
       "      <td>57098.0</td>\n",
       "      <td>58305.0</td>\n",
       "      <td>42510.0</td>\n",
       "      <td>469370.0</td>\n",
       "      <td>207980.0</td>\n",
       "      <td>686983.0</td>\n",
       "      <td>211.646974</td>\n",
       "      <td>256.594863</td>\n",
       "      <td>210.920767</td>\n",
       "      <td>260.276441</td>\n",
       "    </tr>\n",
       "    <tr>\n",
       "      <th>260</th>\n",
       "      <td>1997_ALABAMA</td>\n",
       "      <td>ALABAMA</td>\n",
       "      <td>1997</td>\n",
       "      <td>737386.0</td>\n",
       "      <td>3981788.0</td>\n",
       "      <td>376200.0</td>\n",
       "      <td>2498847.0</td>\n",
       "      <td>1106741.0</td>\n",
       "      <td>3963624.0</td>\n",
       "      <td>2095904.0</td>\n",
       "      <td>...</td>\n",
       "      <td>57431.0</td>\n",
       "      <td>58210.0</td>\n",
       "      <td>44272.0</td>\n",
       "      <td>472847.0</td>\n",
       "      <td>208148.0</td>\n",
       "      <td>690881.0</td>\n",
       "      <td>NaN</td>\n",
       "      <td>NaN</td>\n",
       "      <td>NaN</td>\n",
       "      <td>NaN</td>\n",
       "    </tr>\n",
       "    <tr>\n",
       "      <th>312</th>\n",
       "      <td>1998_ALABAMA</td>\n",
       "      <td>ALABAMA</td>\n",
       "      <td>1998</td>\n",
       "      <td>739321.0</td>\n",
       "      <td>4140537.0</td>\n",
       "      <td>374153.0</td>\n",
       "      <td>2589819.0</td>\n",
       "      <td>1176565.0</td>\n",
       "      <td>4245033.0</td>\n",
       "      <td>2218693.0</td>\n",
       "      <td>...</td>\n",
       "      <td>58610.0</td>\n",
       "      <td>57105.0</td>\n",
       "      <td>43957.0</td>\n",
       "      <td>473954.0</td>\n",
       "      <td>205630.0</td>\n",
       "      <td>689925.0</td>\n",
       "      <td>NaN</td>\n",
       "      <td>NaN</td>\n",
       "      <td>NaN</td>\n",
       "      <td>NaN</td>\n",
       "    </tr>\n",
       "    <tr>\n",
       "      <th>363</th>\n",
       "      <td>1999_ALABAMA</td>\n",
       "      <td>ALABAMA</td>\n",
       "      <td>1999</td>\n",
       "      <td>737639.0</td>\n",
       "      <td>4471546.0</td>\n",
       "      <td>393095.0</td>\n",
       "      <td>2752653.0</td>\n",
       "      <td>1325798.0</td>\n",
       "      <td>4622810.0</td>\n",
       "      <td>2399626.0</td>\n",
       "      <td>...</td>\n",
       "      <td>60012.0</td>\n",
       "      <td>56201.0</td>\n",
       "      <td>42576.0</td>\n",
       "      <td>472019.0</td>\n",
       "      <td>202045.0</td>\n",
       "      <td>684612.0</td>\n",
       "      <td>NaN</td>\n",
       "      <td>NaN</td>\n",
       "      <td>NaN</td>\n",
       "      <td>NaN</td>\n",
       "    </tr>\n",
       "    <tr>\n",
       "      <th>416</th>\n",
       "      <td>2000_ALABAMA</td>\n",
       "      <td>ALABAMA</td>\n",
       "      <td>2000</td>\n",
       "      <td>730184.0</td>\n",
       "      <td>4885917.0</td>\n",
       "      <td>425978.0</td>\n",
       "      <td>3003814.0</td>\n",
       "      <td>1456125.0</td>\n",
       "      <td>5003267.0</td>\n",
       "      <td>2551713.0</td>\n",
       "      <td>...</td>\n",
       "      <td>59749.0</td>\n",
       "      <td>56951.0</td>\n",
       "      <td>42512.0</td>\n",
       "      <td>472686.0</td>\n",
       "      <td>201358.0</td>\n",
       "      <td>684880.0</td>\n",
       "      <td>217.941053</td>\n",
       "      <td>262.158206</td>\n",
       "      <td>206.880030</td>\n",
       "      <td>258.777258</td>\n",
       "    </tr>\n",
       "    <tr>\n",
       "      <th>468</th>\n",
       "      <td>2001_ALABAMA</td>\n",
       "      <td>ALABAMA</td>\n",
       "      <td>2001</td>\n",
       "      <td>728532.0</td>\n",
       "      <td>4832946.0</td>\n",
       "      <td>466150.0</td>\n",
       "      <td>2879636.0</td>\n",
       "      <td>1487160.0</td>\n",
       "      <td>5086045.0</td>\n",
       "      <td>2656393.0</td>\n",
       "      <td>...</td>\n",
       "      <td>58929.0</td>\n",
       "      <td>56591.0</td>\n",
       "      <td>42909.0</td>\n",
       "      <td>469591.0</td>\n",
       "      <td>201610.0</td>\n",
       "      <td>683042.0</td>\n",
       "      <td>NaN</td>\n",
       "      <td>NaN</td>\n",
       "      <td>NaN</td>\n",
       "      <td>NaN</td>\n",
       "    </tr>\n",
       "  </tbody>\n",
       "</table>\n",
       "<p>10 rows × 25 columns</p>\n",
       "</div>"
      ],
      "text/plain": [
       "      PRIMARY_KEY    STATE  YEAR    ENROLL  TOTAL_REVENUE  FEDERAL_REVENUE  \\\n",
       "0    1992_ALABAMA  ALABAMA  1992       NaN      2678885.0         304177.0   \n",
       "52   1993_ALABAMA  ALABAMA  1993  727716.0      2827391.0         331409.0   \n",
       "104  1994_ALABAMA  ALABAMA  1994  730004.0      2970223.0         331823.0   \n",
       "157  1995_ALABAMA  ALABAMA  1995  727480.0      3367437.0         328957.0   \n",
       "209  1996_ALABAMA  ALABAMA  1996  735912.0      3365113.0         334858.0   \n",
       "260  1997_ALABAMA  ALABAMA  1997  737386.0      3981788.0         376200.0   \n",
       "312  1998_ALABAMA  ALABAMA  1998  739321.0      4140537.0         374153.0   \n",
       "363  1999_ALABAMA  ALABAMA  1999  737639.0      4471546.0         393095.0   \n",
       "416  2000_ALABAMA  ALABAMA  2000  730184.0      4885917.0         425978.0   \n",
       "468  2001_ALABAMA  ALABAMA  2001  728532.0      4832946.0         466150.0   \n",
       "\n",
       "     STATE_REVENUE  LOCAL_REVENUE  TOTAL_EXPENDITURE  INSTRUCTION_EXPENDITURE  \\\n",
       "0        1659028.0       715680.0          2653798.0                1481703.0   \n",
       "52       1729295.0       766687.0          2833433.0                1564558.0   \n",
       "104      1850894.0       787506.0          3103266.0                1697593.0   \n",
       "157      2161366.0       877114.0          3353363.0                1851700.0   \n",
       "209      2138717.0       891538.0          3572283.0                1987018.0   \n",
       "260      2498847.0      1106741.0          3963624.0                2095904.0   \n",
       "312      2589819.0      1176565.0          4245033.0                2218693.0   \n",
       "363      2752653.0      1325798.0          4622810.0                2399626.0   \n",
       "416      3003814.0      1456125.0          5003267.0                2551713.0   \n",
       "468      2879636.0      1487160.0          5086045.0                2656393.0   \n",
       "\n",
       "     ...  GRADES_4_G  GRADES_8_G  GRADES_12_G  GRADES_1_8_G  GRADES_9_12_G  \\\n",
       "0    ...     57948.0     58025.0      41167.0      471564.0       196386.0   \n",
       "52   ...     57497.0     60004.0      39900.0      470775.0       198651.0   \n",
       "104  ...     56773.0     59165.0      41730.0      468472.0       201285.0   \n",
       "157  ...     56486.0     59914.0      40981.0      470246.0       206840.0   \n",
       "209  ...     57098.0     58305.0      42510.0      469370.0       207980.0   \n",
       "260  ...     57431.0     58210.0      44272.0      472847.0       208148.0   \n",
       "312  ...     58610.0     57105.0      43957.0      473954.0       205630.0   \n",
       "363  ...     60012.0     56201.0      42576.0      472019.0       202045.0   \n",
       "416  ...     59749.0     56951.0      42512.0      472686.0       201358.0   \n",
       "468  ...     58929.0     56591.0      42909.0      469591.0       201610.0   \n",
       "\n",
       "     GRADES_ALL_G  AVG_MATH_4_SCORE  AVG_MATH_8_SCORE  AVG_READING_4_SCORE  \\\n",
       "0        676174.0        208.327876        252.187522           207.963517   \n",
       "52       677690.0               NaN               NaN                  NaN   \n",
       "104      678808.0               NaN               NaN                  NaN   \n",
       "157      686410.0               NaN               NaN                  NaN   \n",
       "209      686983.0        211.646974        256.594863           210.920767   \n",
       "260      690881.0               NaN               NaN                  NaN   \n",
       "312      689925.0               NaN               NaN                  NaN   \n",
       "363      684612.0               NaN               NaN                  NaN   \n",
       "416      684880.0        217.941053        262.158206           206.880030   \n",
       "468      683042.0               NaN               NaN                  NaN   \n",
       "\n",
       "     AVG_READING_8_SCORE  \n",
       "0                    NaN  \n",
       "52                   NaN  \n",
       "104                  NaN  \n",
       "157                  NaN  \n",
       "209           260.276441  \n",
       "260                  NaN  \n",
       "312                  NaN  \n",
       "363                  NaN  \n",
       "416           258.777258  \n",
       "468                  NaN  \n",
       "\n",
       "[10 rows x 25 columns]"
      ]
     },
     "execution_count": 81,
     "metadata": {},
     "output_type": "execute_result"
    }
   ],
   "source": [
    "#Clean data \n",
    "fill_list= ['ENROLL', 'TOTAL_REVENUE', 'FEDERAL_REVENUE', 'STATE_REVENUE', 'LOCAL_REVENUE', 'TOTAL_EXPENDITURE',\n",
    "           'INSTRUCTION_EXPENDITURE', 'SUPPORT_SERVICES_EXPENDITURE', 'OTHER_EXPENDITURE', 'CAPITAL_OUTLAY_EXPENDITURE', \n",
    "            'GRADES_PK_G', 'GRADES_KG_G', 'GRADES_4_G', 'GRADES_8_G', 'GRADES_12_G', 'GRADES_1_8_G', 'GRADES_9_12_G', \n",
    "            'GRADES_ALL_G']\n",
    "\n",
    "years = education[\"YEAR\"].unique()\n",
    "\n",
    "education.sort_values(['STATE', 'YEAR'], inplace=True)\n",
    "\n",
    "for col in fill_list:\n",
    "    if [education['YEAR'] == max(years)]:\n",
    "        education.loc[:, col].fillna(\n",
    "        method='ffill', inplace=True)\n",
    "    elif [education['YEAR'] == min(years)]:\n",
    "        education.loc[:, col].dropna(inplace=True)\n",
    "    else:\n",
    "        education.loc[:, col].interpolate(inplace=True)\n",
    "education.head(10)"
   ]
  },
  {
   "cell_type": "code",
   "execution_count": 82,
   "metadata": {},
   "outputs": [
    {
     "data": {
      "text/plain": [
       "PRIMARY_KEY                      0.000000\n",
       "STATE                            0.000000\n",
       "YEAR                             0.000000\n",
       "ENROLL                           0.067024\n",
       "TOTAL_REVENUE                    0.000000\n",
       "FEDERAL_REVENUE                  0.000000\n",
       "STATE_REVENUE                    0.000000\n",
       "LOCAL_REVENUE                    0.000000\n",
       "TOTAL_EXPENDITURE                0.000000\n",
       "INSTRUCTION_EXPENDITURE          0.000000\n",
       "SUPPORT_SERVICES_EXPENDITURE     0.000000\n",
       "OTHER_EXPENDITURE                0.067024\n",
       "CAPITAL_OUTLAY_EXPENDITURE       0.000000\n",
       "GRADES_PK_G                      0.000000\n",
       "GRADES_KG_G                      0.000000\n",
       "GRADES_4_G                       0.000000\n",
       "GRADES_8_G                       0.000000\n",
       "GRADES_12_G                      0.000000\n",
       "GRADES_1_8_G                     0.000000\n",
       "GRADES_9_12_G                    0.000000\n",
       "GRADES_ALL_G                     0.000000\n",
       "AVG_MATH_4_SCORE                64.075067\n",
       "AVG_MATH_8_SCORE                64.343164\n",
       "AVG_READING_4_SCORE             64.276139\n",
       "AVG_READING_8_SCORE             66.621984\n",
       "dtype: float64"
      ]
     },
     "execution_count": 82,
     "metadata": {},
     "output_type": "execute_result"
    }
   ],
   "source": [
    "education.isnull().sum()*100/education.isnull().count()"
   ]
  },
  {
   "cell_type": "markdown",
   "metadata": {},
   "source": [
    "1. Consider the two variables: TOTAL_REVENUE and TOTAL_EXPENDITURE. Do these variables have outlier values?"
   ]
  },
  {
   "cell_type": "code",
   "execution_count": 83,
   "metadata": {},
   "outputs": [
    {
     "data": {
      "image/png": "[encoded data removed]",
      "text/plain": [
       "<Figure size 1080x360 with 2 Axes>"
      ]
     },
     "metadata": {
      "needs_background": "light"
     },
     "output_type": "display_data"
    },
    {
     "name": "stdout",
     "output_type": "stream",
     "text": [
      "Yes, both variables have many outliers above the top whisker (Q3 + (1.5*IQR)) range.\n"
     ]
    }
   ],
   "source": [
    "plt.figure(figsize=(15, 5))\n",
    "\n",
    "plt.subplot(1, 2, 1)\n",
    "plt.boxplot(education['TOTAL_REVENUE'])\n",
    "plt.title('Boxplot of Total Revenue (whis=1.5)')\n",
    "\n",
    "plt.subplot(1, 2, 2)\n",
    "plt.boxplot(education['TOTAL_EXPENDITURE'])\n",
    "plt.title('Boxplot of Total Expenditure (whis=1.5)')\n",
    "\n",
    "plt.show()\n",
    "\n",
    "print('Yes, both variables have many outliers above the top whisker (Q3 + (1.5*IQR)) range.')"
   ]
  },
  {
   "cell_type": "markdown",
   "metadata": {},
   "source": [
    "2. If you detect outliers in the TOTAL_REVENUE and TOTAL_EXPENDITURE variables, apply the techniques you learned in this checkpoint to eliminate them and validate that there's no outlier values after you handled them."
   ]
  },
  {
   "cell_type": "code",
   "execution_count": 84,
   "metadata": {},
   "outputs": [
    {
     "data": {
      "text/plain": [
       "masked_array(data=[2653798., 2833433., 3103266., ..., 1942406., 2034229.,\n",
       "                   2034229.],\n",
       "             mask=False,\n",
       "       fill_value=1e+20)"
      ]
     },
     "execution_count": 84,
     "metadata": {},
     "output_type": "execute_result"
    }
   ],
   "source": [
    "#One way winsorize data to eliminate high outliers\n",
    "winsorized_revenue= winsorize(education['TOTAL_REVENUE'], (0 , 0.10))\n",
    "winsorized_expenditure= winsorize(education['TOTAL_EXPENDITURE'], (0 , 0.10))\n",
    "winsorized_expenditure"
   ]
  },
  {
   "cell_type": "code",
   "execution_count": 85,
   "metadata": {},
   "outputs": [
    {
     "data": {
      "image/png": "[encoded data removed]",
      "text/plain": [
       "<Figure size 1080x360 with 2 Axes>"
      ]
     },
     "metadata": {
      "needs_background": "light"
     },
     "output_type": "display_data"
    }
   ],
   "source": [
    "plt.figure(figsize=(15, 5))\n",
    "\n",
    "plt.subplot(1, 2, 1)\n",
    "plt.boxplot(winsorized_revenue)\n",
    "plt.title('Boxplot of Winsorized Total Revenue (whis=1.5)')\n",
    "\n",
    "plt.subplot(1, 2, 2)\n",
    "plt.boxplot(winsorized_expenditure)\n",
    "plt.title('Boxplot of Winsorized Total Expenditure (whis=1.5)')\n",
    "\n",
    "plt.show()"
   ]
  },
  {
   "cell_type": "markdown",
   "metadata": {},
   "source": [
    "3. Create another variable by subtracting the original TOTAL_EXPENDITURE from TOTAL_REVENUE (before you eliminated the outliers). You can think of it as a kind of budget deficit in education. Do you find any outlier values in this new variable? If so, eliminate them using the technique you think most suitable."
   ]
  },
  {
   "cell_type": "code",
   "execution_count": 86,
   "metadata": {},
   "outputs": [],
   "source": [
    "#Create variable\n",
    "education['DEFICIT']= education['TOTAL_REVENUE']-education['TOTAL_EXPENDITURE']"
   ]
  },
  {
   "cell_type": "code",
   "execution_count": 87,
   "metadata": {},
   "outputs": [
    {
     "data": {
      "image/png": "[encoded data removed]",
      "text/plain": [
       "<Figure size 720x360 with 1 Axes>"
      ]
     },
     "metadata": {
      "needs_background": "light"
     },
     "output_type": "display_data"
    },
    {
     "data": {
      "image/png": "[encoded data removed]",
      "text/plain": [
       "<Figure size 432x288 with 1 Axes>"
      ]
     },
     "metadata": {
      "needs_background": "light"
     },
     "output_type": "display_data"
    }
   ],
   "source": [
    "#plot outliers\n",
    "plt.figure(figsize=(10, 5))\n",
    "\n",
    "plt.subplot(1, 2, 1)\n",
    "plt.hist(education['DEFICIT'])\n",
    "plt.title('Histogram of Deficit')\n",
    "plt.show()\n",
    "\n",
    "plt.subplot(1, 2, 2)\n",
    "plt.boxplot(education['DEFICIT'])\n",
    "plt.title('Boxplot of Deficit')\n",
    "\n",
    "plt.tight_layout()\n",
    "plt.show()"
   ]
  },
  {
   "cell_type": "code",
   "execution_count": 88,
   "metadata": {},
   "outputs": [],
   "source": [
    "education['log_def']= np.log(education['DEFICIT'])"
   ]
  },
  {
   "cell_type": "code",
   "execution_count": 132,
   "metadata": {},
   "outputs": [
    {
     "data": {
      "image/png": "[encoded data removed]",
      "text/plain": [
       "<Figure size 720x360 with 2 Axes>"
      ]
     },
     "metadata": {
      "needs_background": "light"
     },
     "output_type": "display_data"
    }
   ],
   "source": [
    "plt.figure(figsize=(10, 5))\n",
    "\n",
    "plt.subplot(1, 2, 1)\n",
    "plt.hist(education['log_def'])\n",
    "plt.title('Histogram of Deficit-Logged')\n",
    "\n",
    "plt.subplot(1, 2, 2)\n",
    "education.boxplot('log_def', whis=2.5)\n",
    "plt.title('Boxplot of Deficit-Logged (whis=2.5)')\n",
    "\n",
    "plt.tight_layout()\n",
    "plt.show()\n"
   ]
  },
  {
   "cell_type": "markdown",
   "metadata": {},
   "source": [
    "4. Now create another variable by subtracting the TOTAL_EXPENDITURE from TOTAL_REVENUE. This time, use the outlier eliminated versions of TOTAL_EXPENDITURE from TOTAL_REVENUE. In this newly created variable, can you find any outliers? If so, eliminate them."
   ]
  },
  {
   "cell_type": "code",
   "execution_count": 91,
   "metadata": {},
   "outputs": [],
   "source": [
    "#Create variable\n",
    "education['SURPLUS']= winsorized_revenue-winsorized_expenditure"
   ]
  },
  {
   "cell_type": "code",
   "execution_count": 92,
   "metadata": {},
   "outputs": [
    {
     "data": {
      "image/png": "[encoded data removed]",
      "text/plain": [
       "<Figure size 432x288 with 1 Axes>"
      ]
     },
     "metadata": {
      "needs_background": "light"
     },
     "output_type": "display_data"
    }
   ],
   "source": [
    "#plot to gauge outliers\n",
    "plt.boxplot(education['SURPLUS'])\n",
    "plt.title('Boxplot of educational surplus')\n",
    "\n",
    "plt.show()"
   ]
  },
  {
   "cell_type": "code",
   "execution_count": 93,
   "metadata": {},
   "outputs": [],
   "source": [
    "#eliminate outliers\n",
    "education['winsorized_surplus']= winsorize(education['SURPLUS'], (0.05, 0.05))"
   ]
  },
  {
   "cell_type": "code",
   "execution_count": 94,
   "metadata": {},
   "outputs": [
    {
     "data": {
      "image/png": "[encoded data removed]",
      "text/plain": [
       "<Figure size 432x288 with 1 Axes>"
      ]
     },
     "metadata": {
      "needs_background": "light"
     },
     "output_type": "display_data"
    }
   ],
   "source": [
    "plt.boxplot(winsorized_surplus)\n",
    "plt.title('Boxplot of winsorized educational surplus (whis=1.5)')\n",
    "\n",
    "plt.show()"
   ]
  },
  {
   "cell_type": "markdown",
   "metadata": {},
   "source": [
    "5. Compare some basic descriptive statistics of the budget variables you end up with in the 3rd and the 4th questions. Do you see any differences?"
   ]
  },
  {
   "cell_type": "code",
   "execution_count": 96,
   "metadata": {},
   "outputs": [
    {
     "data": {
      "text/html": [
       "<div>\n",
       "<style scoped>\n",
       "    .dataframe tbody tr th:only-of-type {\n",
       "        vertical-align: middle;\n",
       "    }\n",
       "\n",
       "    .dataframe tbody tr th {\n",
       "        vertical-align: top;\n",
       "    }\n",
       "\n",
       "    .dataframe thead th {\n",
       "        text-align: right;\n",
       "    }\n",
       "</style>\n",
       "<table border=\"1\" class=\"dataframe\">\n",
       "  <thead>\n",
       "    <tr style=\"text-align: right;\">\n",
       "      <th></th>\n",
       "      <th>DEFICIT</th>\n",
       "      <th>log_def</th>\n",
       "      <th>SURPLUS</th>\n",
       "      <th>winsorized_surplus</th>\n",
       "    </tr>\n",
       "  </thead>\n",
       "  <tbody>\n",
       "    <tr>\n",
       "      <th>count</th>\n",
       "      <td>1.492000e+03</td>\n",
       "      <td>642.000000</td>\n",
       "      <td>1.492000e+03</td>\n",
       "      <td>1492.000000</td>\n",
       "    </tr>\n",
       "    <tr>\n",
       "      <th>mean</th>\n",
       "      <td>-9.943955e+04</td>\n",
       "      <td>11.229695</td>\n",
       "      <td>-6.368449e+04</td>\n",
       "      <td>-67323.575067</td>\n",
       "    </tr>\n",
       "    <tr>\n",
       "      <th>std</th>\n",
       "      <td>5.689052e+05</td>\n",
       "      <td>1.637962</td>\n",
       "      <td>3.276774e+05</td>\n",
       "      <td>231198.836114</td>\n",
       "    </tr>\n",
       "    <tr>\n",
       "      <th>min</th>\n",
       "      <td>-5.487742e+06</td>\n",
       "      <td>4.890349</td>\n",
       "      <td>-1.650831e+06</td>\n",
       "      <td>-487134.000000</td>\n",
       "    </tr>\n",
       "    <tr>\n",
       "      <th>25%</th>\n",
       "      <td>-1.808150e+05</td>\n",
       "      <td>10.028964</td>\n",
       "      <td>-2.315270e+05</td>\n",
       "      <td>-231527.000000</td>\n",
       "    </tr>\n",
       "    <tr>\n",
       "      <th>50%</th>\n",
       "      <td>-1.934950e+04</td>\n",
       "      <td>11.525401</td>\n",
       "      <td>-3.018050e+04</td>\n",
       "      <td>-30180.500000</td>\n",
       "    </tr>\n",
       "    <tr>\n",
       "      <th>75%</th>\n",
       "      <td>6.616175e+04</td>\n",
       "      <td>12.409279</td>\n",
       "      <td>4.061425e+04</td>\n",
       "      <td>40614.250000</td>\n",
       "    </tr>\n",
       "    <tr>\n",
       "      <th>max</th>\n",
       "      <td>3.897129e+06</td>\n",
       "      <td>15.175751</td>\n",
       "      <td>2.520706e+06</td>\n",
       "      <td>415590.000000</td>\n",
       "    </tr>\n",
       "  </tbody>\n",
       "</table>\n",
       "</div>"
      ],
      "text/plain": [
       "            DEFICIT     log_def       SURPLUS  winsorized_surplus\n",
       "count  1.492000e+03  642.000000  1.492000e+03         1492.000000\n",
       "mean  -9.943955e+04   11.229695 -6.368449e+04       -67323.575067\n",
       "std    5.689052e+05    1.637962  3.276774e+05       231198.836114\n",
       "min   -5.487742e+06    4.890349 -1.650831e+06      -487134.000000\n",
       "25%   -1.808150e+05   10.028964 -2.315270e+05      -231527.000000\n",
       "50%   -1.934950e+04   11.525401 -3.018050e+04       -30180.500000\n",
       "75%    6.616175e+04   12.409279  4.061425e+04        40614.250000\n",
       "max    3.897129e+06   15.175751  2.520706e+06       415590.000000"
      ]
     },
     "execution_count": 96,
     "metadata": {},
     "output_type": "execute_result"
    }
   ],
   "source": [
    "education[['DEFICIT', 'log_def', 'SURPLUS', 'winsorized_surplus']].describe()"
   ]
  },
  {
   "cell_type": "markdown",
   "metadata": {},
   "source": [
    "Deficit vs. deficit logged shows much lower numbers and all positive due to the log function having been applied, but the count does not include every entry in the original df. The winsorized surplus has the same median and quartile range, but the min and max are much closer to the IQR as the original surplus column."
   ]
  },
  {
   "cell_type": "markdown",
   "metadata": {},
   "source": [
    "6. If our variable of interest is the budget deficit variable, which method do you think is the appropriate in dealing with the outliers in this variable: the method in the 3rd question or the one in the 4th question?"
   ]
  },
  {
   "cell_type": "markdown",
   "metadata": {},
   "source": [
    "I would use the method of winsorizing in the 4th question as it kept all records intact and more closely resembles the original column's distribution."
   ]
  },
  {
   "cell_type": "code",
   "execution_count": null,
   "metadata": {},
   "outputs": [],
   "source": []
  }
 ],
 "metadata": {
  "kernelspec": {
   "display_name": "Python 3",
   "language": "python",
   "name": "python3"
  },
  "language_info": {
   "codemirror_mode": {
    "name": "ipython",
    "version": 3
   },
   "file_extension": ".py",
   "mimetype": "text/x-python",
   "name": "python",
   "nbconvert_exporter": "python",
   "pygments_lexer": "ipython3",
   "version": "3.7.2"
  }
 },
 "nbformat": 4,
 "nbformat_minor": 2
}
