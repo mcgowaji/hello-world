{
 "cells": [
  {
   "cell_type": "code",
   "execution_count": 36,
   "metadata": {},
   "outputs": [],
   "source": [
    "from sqlalchemy import create_engine\n",
    "import pandas as pd"
   ]
  },
  {
   "cell_type": "code",
   "execution_count": 37,
   "metadata": {},
   "outputs": [],
   "source": [
    "#Access SQL query\n",
    "postgres_user = 'dsbc_student'\n",
    "postgres_pw = '7*.8G9QH21'\n",
    "postgres_host = '142.93.121.174'\n",
    "postgres_port = '5432'\n",
    "postgres_db = 'dvdrentals'\n",
    "\n",
    "engine = create_engine('postgresql://{}:{}@{}:{}/{}'.format(\n",
    "    postgres_user, postgres_pw, postgres_host, postgres_port, postgres_db))\n",
    "\n"
   ]
  },
  {
   "cell_type": "markdown",
   "metadata": {},
   "source": [
    "1. How many movies are released for each rating?"
   ]
  },
  {
   "cell_type": "code",
   "execution_count": 38,
   "metadata": {},
   "outputs": [
    {
     "name": "stdout",
     "output_type": "stream",
     "text": [
      "There are 195 movies available with a R rating.\n",
      "There are 210 movies available with a NC-17 rating.\n",
      "There are 194 movies available with a PG rating.\n",
      "There are 223 movies available with a PG-13 rating.\n",
      "There are 178 movies available with a G rating.\n"
     ]
    }
   ],
   "source": [
    "sql= '''select count(*), rating\n",
    "from film\n",
    "group by film.rating\n",
    "'''\n",
    "\n",
    "ratings=engine.execute(sql)\n",
    "for rating in ratings:\n",
    "    print('There are {} movies available with a {} rating.'.format(rating[0], rating[1]))"
   ]
  },
  {
   "cell_type": "markdown",
   "metadata": {},
   "source": [
    "2. What is the average rental duration for each rating?"
   ]
  },
  {
   "cell_type": "code",
   "execution_count": 54,
   "metadata": {},
   "outputs": [
    {
     "name": "stdout",
     "output_type": "stream",
     "text": [
      "R rated movies have an average rental duration of 4 minutes.\n",
      "NC-17 rated movies have an average rental duration of 5 minutes.\n",
      "PG rated movies have an average rental duration of 5 minutes.\n",
      "PG-13 rated movies have an average rental duration of 5 minutes.\n",
      "G rated movies have an average rental duration of 4 minutes.\n"
     ]
    }
   ],
   "source": [
    "sql= ''' select rating, avg(rental_duration)\n",
    "from film\n",
    "group by rating'''\n",
    "\n",
    "duration= engine.execute(sql)\n",
    "for row in duration:\n",
    "    print('{} rated movies have an average rental duration of {} minutes.'.format(row['rating'], int(row['avg'])))"
   ]
  },
  {
   "cell_type": "markdown",
   "metadata": {},
   "source": [
    "3. What is the mean movie length? Calculate this by defining a function."
   ]
  },
  {
   "cell_type": "code",
   "execution_count": 60,
   "metadata": {},
   "outputs": [
    {
     "name": "stdout",
     "output_type": "stream",
     "text": [
      "The mean movie length is 115.272\n"
     ]
    }
   ],
   "source": [
    "def mean(numbers):\n",
    "    total_sum=0\n",
    "    for number in numbers:\n",
    "        total_sum+=number\n",
    "    length= len(numbers)\n",
    "    avg= total_sum/length\n",
    "    return avg\n",
    "\n",
    "movie_lengths= engine.execute('select length from film')\n",
    "lengths= [row['length'] for row in movie_lengths]\n",
    "print('The mean movie length is {}'.format(mean(lengths)))"
   ]
  },
  {
   "cell_type": "markdown",
   "metadata": {},
   "source": [
    "4. What is the median movie length? Calculate this by defining a function."
   ]
  },
  {
   "cell_type": "code",
   "execution_count": 66,
   "metadata": {},
   "outputs": [
    {
     "name": "stdout",
     "output_type": "stream",
     "text": [
      "The median movie length is 114.0\n"
     ]
    }
   ],
   "source": [
    "import math\n",
    "\n",
    "def median(numbers):\n",
    "    numbers.sort()\n",
    "    n=len(numbers)\n",
    "    isEven= n % 2 == 0\n",
    "    \n",
    "    if (isEven):\n",
    "        middle= math.floor(n/2)\n",
    "        n1= numbers[middle]\n",
    "        n2=numbers[middle +1]\n",
    "        ans= (n1+n2)/2\n",
    "    else:\n",
    "        numbers[math.floor(n/2)]\n",
    "    return ans\n",
    "\n",
    "print('The median movie length is {}'.format(median(lengths)))\n",
    "        \n",
    "        "
   ]
  },
  {
   "cell_type": "markdown",
   "metadata": {},
   "source": [
    "5. Calculate the standard deviation of the movie lengths. Calculate this by defining a function."
   ]
  },
  {
   "cell_type": "code",
   "execution_count": 75,
   "metadata": {},
   "outputs": [
    {
     "name": "stdout",
     "output_type": "stream",
     "text": [
      "The standard deviation of movie lengths is 40.42633181855988\n"
     ]
    }
   ],
   "source": [
    "def std(numbers):\n",
    "    n=len(numbers)\n",
    "    total_sum=0\n",
    "    x_mean= mean(numbers)\n",
    "    for num in numbers:\n",
    "        diff_squared= (num - x_mean)**2\n",
    "        total_sum+=diff_squared\n",
    "    sigma= math.sqrt(total_sum/(n-1))\n",
    "    return sigma\n",
    "print('The standard deviation of movie lengths is {}'.format(std(lengths)))\n",
    "    \n",
    "        "
   ]
  },
  {
   "cell_type": "code",
   "execution_count": null,
   "metadata": {},
   "outputs": [],
   "source": []
  }
 ],
 "metadata": {
  "kernelspec": {
   "display_name": "Python 3",
   "language": "python",
   "name": "python3"
  },
  "language_info": {
   "codemirror_mode": {
    "name": "ipython",
    "version": 3
   },
   "file_extension": ".py",
   "mimetype": "text/x-python",
   "name": "python",
   "nbconvert_exporter": "python",
   "pygments_lexer": "ipython3",
   "version": "3.7.2"
  }
 },
 "nbformat": 4,
 "nbformat_minor": 2
}
