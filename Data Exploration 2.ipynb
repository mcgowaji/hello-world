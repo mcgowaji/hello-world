{
 "cells": [
  {
   "cell_type": "code",
   "execution_count": 1,
   "metadata": {},
   "outputs": [],
   "source": [
    "import matplotlib.pyplot as plt\n",
    "import seaborn as sns\n",
    "import numpy as np\n",
    "import pandas as pd\n",
    "import seaborn as sns\n",
    "%matplotlib inline\n",
    "import scipy.stats as stats\n",
    "from scipy.stats.mstats import winsorize\n",
    "from sqlalchemy import create_engine\n",
    "import warnings"
   ]
  },
  {
   "cell_type": "code",
   "execution_count": 2,
   "metadata": {},
   "outputs": [
    {
     "data": {
      "text/html": [
       "<div>\n",
       "<style scoped>\n",
       "    .dataframe tbody tr th:only-of-type {\n",
       "        vertical-align: middle;\n",
       "    }\n",
       "\n",
       "    .dataframe tbody tr th {\n",
       "        vertical-align: top;\n",
       "    }\n",
       "\n",
       "    .dataframe thead th {\n",
       "        text-align: right;\n",
       "    }\n",
       "</style>\n",
       "<table border=\"1\" class=\"dataframe\">\n",
       "  <thead>\n",
       "    <tr style=\"text-align: right;\">\n",
       "      <th></th>\n",
       "      <th>gender</th>\n",
       "      <th>race/ethnicity</th>\n",
       "      <th>parental level of education</th>\n",
       "      <th>lunch</th>\n",
       "      <th>test preparation course</th>\n",
       "      <th>math score</th>\n",
       "      <th>reading score</th>\n",
       "      <th>writing score</th>\n",
       "    </tr>\n",
       "  </thead>\n",
       "  <tbody>\n",
       "    <tr>\n",
       "      <th>0</th>\n",
       "      <td>female</td>\n",
       "      <td>group B</td>\n",
       "      <td>bachelor's degree</td>\n",
       "      <td>standard</td>\n",
       "      <td>none</td>\n",
       "      <td>72</td>\n",
       "      <td>72</td>\n",
       "      <td>74</td>\n",
       "    </tr>\n",
       "    <tr>\n",
       "      <th>1</th>\n",
       "      <td>female</td>\n",
       "      <td>group C</td>\n",
       "      <td>some college</td>\n",
       "      <td>standard</td>\n",
       "      <td>completed</td>\n",
       "      <td>69</td>\n",
       "      <td>90</td>\n",
       "      <td>88</td>\n",
       "    </tr>\n",
       "    <tr>\n",
       "      <th>2</th>\n",
       "      <td>female</td>\n",
       "      <td>group B</td>\n",
       "      <td>master's degree</td>\n",
       "      <td>standard</td>\n",
       "      <td>none</td>\n",
       "      <td>90</td>\n",
       "      <td>95</td>\n",
       "      <td>93</td>\n",
       "    </tr>\n",
       "    <tr>\n",
       "      <th>3</th>\n",
       "      <td>male</td>\n",
       "      <td>group A</td>\n",
       "      <td>associate's degree</td>\n",
       "      <td>free/reduced</td>\n",
       "      <td>none</td>\n",
       "      <td>47</td>\n",
       "      <td>57</td>\n",
       "      <td>44</td>\n",
       "    </tr>\n",
       "    <tr>\n",
       "      <th>4</th>\n",
       "      <td>male</td>\n",
       "      <td>group C</td>\n",
       "      <td>some college</td>\n",
       "      <td>standard</td>\n",
       "      <td>none</td>\n",
       "      <td>76</td>\n",
       "      <td>78</td>\n",
       "      <td>75</td>\n",
       "    </tr>\n",
       "    <tr>\n",
       "      <th>5</th>\n",
       "      <td>female</td>\n",
       "      <td>group B</td>\n",
       "      <td>associate's degree</td>\n",
       "      <td>standard</td>\n",
       "      <td>none</td>\n",
       "      <td>71</td>\n",
       "      <td>83</td>\n",
       "      <td>78</td>\n",
       "    </tr>\n",
       "    <tr>\n",
       "      <th>6</th>\n",
       "      <td>female</td>\n",
       "      <td>group B</td>\n",
       "      <td>some college</td>\n",
       "      <td>standard</td>\n",
       "      <td>completed</td>\n",
       "      <td>88</td>\n",
       "      <td>95</td>\n",
       "      <td>92</td>\n",
       "    </tr>\n",
       "    <tr>\n",
       "      <th>7</th>\n",
       "      <td>male</td>\n",
       "      <td>group B</td>\n",
       "      <td>some college</td>\n",
       "      <td>free/reduced</td>\n",
       "      <td>none</td>\n",
       "      <td>40</td>\n",
       "      <td>43</td>\n",
       "      <td>39</td>\n",
       "    </tr>\n",
       "    <tr>\n",
       "      <th>8</th>\n",
       "      <td>male</td>\n",
       "      <td>group D</td>\n",
       "      <td>high school</td>\n",
       "      <td>free/reduced</td>\n",
       "      <td>completed</td>\n",
       "      <td>64</td>\n",
       "      <td>64</td>\n",
       "      <td>67</td>\n",
       "    </tr>\n",
       "    <tr>\n",
       "      <th>9</th>\n",
       "      <td>female</td>\n",
       "      <td>group B</td>\n",
       "      <td>high school</td>\n",
       "      <td>free/reduced</td>\n",
       "      <td>none</td>\n",
       "      <td>38</td>\n",
       "      <td>60</td>\n",
       "      <td>50</td>\n",
       "    </tr>\n",
       "  </tbody>\n",
       "</table>\n",
       "</div>"
      ],
      "text/plain": [
       "   gender race/ethnicity parental level of education         lunch  \\\n",
       "0  female        group B           bachelor's degree      standard   \n",
       "1  female        group C                some college      standard   \n",
       "2  female        group B             master's degree      standard   \n",
       "3    male        group A          associate's degree  free/reduced   \n",
       "4    male        group C                some college      standard   \n",
       "5  female        group B          associate's degree      standard   \n",
       "6  female        group B                some college      standard   \n",
       "7    male        group B                some college  free/reduced   \n",
       "8    male        group D                 high school  free/reduced   \n",
       "9  female        group B                 high school  free/reduced   \n",
       "\n",
       "  test preparation course  math score  reading score  writing score  \n",
       "0                    none          72             72             74  \n",
       "1               completed          69             90             88  \n",
       "2                    none          90             95             93  \n",
       "3                    none          47             57             44  \n",
       "4                    none          76             78             75  \n",
       "5                    none          71             83             78  \n",
       "6               completed          88             95             92  \n",
       "7                    none          40             43             39  \n",
       "8               completed          64             64             67  \n",
       "9                    none          38             60             50  "
      ]
     },
     "execution_count": 2,
     "metadata": {},
     "output_type": "execute_result"
    }
   ],
   "source": [
    "postgres_user = 'dsbc_student'\n",
    "postgres_pw = '7*.8G9QH21'\n",
    "postgres_host = '142.93.121.174'\n",
    "postgres_port = '5432'\n",
    "postgres_db = 'studentsperformance'\n",
    "\n",
    "engine = create_engine('postgresql://{}:{}@{}:{}/{}'.format(\n",
    "    postgres_user, postgres_pw, postgres_host, postgres_port, postgres_db))\n",
    "\n",
    "engine.dispose()\n",
    "\n",
    "performance = pd.read_sql_query('select * from studentsperformance',con=engine)\n",
    "performance.head(10)"
   ]
  },
  {
   "cell_type": "code",
   "execution_count": 3,
   "metadata": {},
   "outputs": [
    {
     "data": {
      "text/plain": [
       "gender                         0.0\n",
       "race/ethnicity                 0.0\n",
       "parental level of education    0.0\n",
       "lunch                          0.0\n",
       "test preparation course        0.0\n",
       "math score                     0.0\n",
       "reading score                  0.0\n",
       "writing score                  0.0\n",
       "dtype: float64"
      ]
     },
     "execution_count": 3,
     "metadata": {},
     "output_type": "execute_result"
    }
   ],
   "source": [
    "#Check cleanliness of data\n",
    "performance.isnull().sum()*100/performance.isnull().count()"
   ]
  },
  {
   "cell_type": "markdown",
   "metadata": {},
   "source": [
    "1. Are there any differences between the genders, ethnicities, and parental level of education with respect to their performances in exams?"
   ]
  },
  {
   "cell_type": "code",
   "execution_count": 4,
   "metadata": {},
   "outputs": [
    {
     "data": {
      "text/html": [
       "<div>\n",
       "<style scoped>\n",
       "    .dataframe tbody tr th:only-of-type {\n",
       "        vertical-align: middle;\n",
       "    }\n",
       "\n",
       "    .dataframe tbody tr th {\n",
       "        vertical-align: top;\n",
       "    }\n",
       "\n",
       "    .dataframe thead th {\n",
       "        text-align: right;\n",
       "    }\n",
       "</style>\n",
       "<table border=\"1\" class=\"dataframe\">\n",
       "  <thead>\n",
       "    <tr style=\"text-align: right;\">\n",
       "      <th></th>\n",
       "      <th>math score</th>\n",
       "      <th>reading score</th>\n",
       "      <th>writing score</th>\n",
       "    </tr>\n",
       "    <tr>\n",
       "      <th>gender</th>\n",
       "      <th></th>\n",
       "      <th></th>\n",
       "      <th></th>\n",
       "    </tr>\n",
       "  </thead>\n",
       "  <tbody>\n",
       "    <tr>\n",
       "      <th>female</th>\n",
       "      <td>63.633205</td>\n",
       "      <td>72.608108</td>\n",
       "      <td>72.467181</td>\n",
       "    </tr>\n",
       "    <tr>\n",
       "      <th>male</th>\n",
       "      <td>68.728216</td>\n",
       "      <td>65.473029</td>\n",
       "      <td>63.311203</td>\n",
       "    </tr>\n",
       "  </tbody>\n",
       "</table>\n",
       "</div>"
      ],
      "text/plain": [
       "        math score  reading score  writing score\n",
       "gender                                          \n",
       "female   63.633205      72.608108      72.467181\n",
       "male     68.728216      65.473029      63.311203"
      ]
     },
     "execution_count": 4,
     "metadata": {},
     "output_type": "execute_result"
    }
   ],
   "source": [
    "performance.groupby('gender').mean()"
   ]
  },
  {
   "cell_type": "markdown",
   "metadata": {},
   "source": [
    "Males scored on average 5 points higher than females is math, but 7 lower in reading and 9 lower in writing."
   ]
  },
  {
   "cell_type": "code",
   "execution_count": 5,
   "metadata": {},
   "outputs": [
    {
     "data": {
      "text/html": [
       "<div>\n",
       "<style scoped>\n",
       "    .dataframe tbody tr th:only-of-type {\n",
       "        vertical-align: middle;\n",
       "    }\n",
       "\n",
       "    .dataframe tbody tr th {\n",
       "        vertical-align: top;\n",
       "    }\n",
       "\n",
       "    .dataframe thead th {\n",
       "        text-align: right;\n",
       "    }\n",
       "</style>\n",
       "<table border=\"1\" class=\"dataframe\">\n",
       "  <thead>\n",
       "    <tr style=\"text-align: right;\">\n",
       "      <th></th>\n",
       "      <th>math score</th>\n",
       "      <th>reading score</th>\n",
       "      <th>writing score</th>\n",
       "    </tr>\n",
       "    <tr>\n",
       "      <th>race/ethnicity</th>\n",
       "      <th></th>\n",
       "      <th></th>\n",
       "      <th></th>\n",
       "    </tr>\n",
       "  </thead>\n",
       "  <tbody>\n",
       "    <tr>\n",
       "      <th>group A</th>\n",
       "      <td>61.629213</td>\n",
       "      <td>64.674157</td>\n",
       "      <td>62.674157</td>\n",
       "    </tr>\n",
       "    <tr>\n",
       "      <th>group B</th>\n",
       "      <td>63.452632</td>\n",
       "      <td>67.352632</td>\n",
       "      <td>65.600000</td>\n",
       "    </tr>\n",
       "    <tr>\n",
       "      <th>group C</th>\n",
       "      <td>64.463950</td>\n",
       "      <td>69.103448</td>\n",
       "      <td>67.827586</td>\n",
       "    </tr>\n",
       "    <tr>\n",
       "      <th>group D</th>\n",
       "      <td>67.362595</td>\n",
       "      <td>70.030534</td>\n",
       "      <td>70.145038</td>\n",
       "    </tr>\n",
       "    <tr>\n",
       "      <th>group E</th>\n",
       "      <td>73.821429</td>\n",
       "      <td>73.028571</td>\n",
       "      <td>71.407143</td>\n",
       "    </tr>\n",
       "  </tbody>\n",
       "</table>\n",
       "</div>"
      ],
      "text/plain": [
       "                math score  reading score  writing score\n",
       "race/ethnicity                                          \n",
       "group A          61.629213      64.674157      62.674157\n",
       "group B          63.452632      67.352632      65.600000\n",
       "group C          64.463950      69.103448      67.827586\n",
       "group D          67.362595      70.030534      70.145038\n",
       "group E          73.821429      73.028571      71.407143"
      ]
     },
     "execution_count": 5,
     "metadata": {},
     "output_type": "execute_result"
    }
   ],
   "source": [
    "performance.groupby('race/ethnicity').mean()"
   ]
  },
  {
   "cell_type": "markdown",
   "metadata": {},
   "source": [
    "The scores across the board go up as the list descends, with group E performing highest in all categories."
   ]
  },
  {
   "cell_type": "code",
   "execution_count": 6,
   "metadata": {},
   "outputs": [
    {
     "data": {
      "text/html": [
       "<div>\n",
       "<style scoped>\n",
       "    .dataframe tbody tr th:only-of-type {\n",
       "        vertical-align: middle;\n",
       "    }\n",
       "\n",
       "    .dataframe tbody tr th {\n",
       "        vertical-align: top;\n",
       "    }\n",
       "\n",
       "    .dataframe thead th {\n",
       "        text-align: right;\n",
       "    }\n",
       "</style>\n",
       "<table border=\"1\" class=\"dataframe\">\n",
       "  <thead>\n",
       "    <tr style=\"text-align: right;\">\n",
       "      <th></th>\n",
       "      <th>math score</th>\n",
       "      <th>reading score</th>\n",
       "      <th>writing score</th>\n",
       "    </tr>\n",
       "    <tr>\n",
       "      <th>parental level of education</th>\n",
       "      <th></th>\n",
       "      <th></th>\n",
       "      <th></th>\n",
       "    </tr>\n",
       "  </thead>\n",
       "  <tbody>\n",
       "    <tr>\n",
       "      <th>associate's degree</th>\n",
       "      <td>67.882883</td>\n",
       "      <td>70.927928</td>\n",
       "      <td>69.896396</td>\n",
       "    </tr>\n",
       "    <tr>\n",
       "      <th>bachelor's degree</th>\n",
       "      <td>69.389831</td>\n",
       "      <td>73.000000</td>\n",
       "      <td>73.381356</td>\n",
       "    </tr>\n",
       "    <tr>\n",
       "      <th>high school</th>\n",
       "      <td>62.137755</td>\n",
       "      <td>64.704082</td>\n",
       "      <td>62.448980</td>\n",
       "    </tr>\n",
       "    <tr>\n",
       "      <th>master's degree</th>\n",
       "      <td>69.745763</td>\n",
       "      <td>75.372881</td>\n",
       "      <td>75.677966</td>\n",
       "    </tr>\n",
       "    <tr>\n",
       "      <th>some college</th>\n",
       "      <td>67.128319</td>\n",
       "      <td>69.460177</td>\n",
       "      <td>68.840708</td>\n",
       "    </tr>\n",
       "    <tr>\n",
       "      <th>some high school</th>\n",
       "      <td>63.497207</td>\n",
       "      <td>66.938547</td>\n",
       "      <td>64.888268</td>\n",
       "    </tr>\n",
       "  </tbody>\n",
       "</table>\n",
       "</div>"
      ],
      "text/plain": [
       "                             math score  reading score  writing score\n",
       "parental level of education                                          \n",
       "associate's degree            67.882883      70.927928      69.896396\n",
       "bachelor's degree             69.389831      73.000000      73.381356\n",
       "high school                   62.137755      64.704082      62.448980\n",
       "master's degree               69.745763      75.372881      75.677966\n",
       "some college                  67.128319      69.460177      68.840708\n",
       "some high school              63.497207      66.938547      64.888268"
      ]
     },
     "execution_count": 6,
     "metadata": {},
     "output_type": "execute_result"
    }
   ],
   "source": [
    "performance.groupby('parental level of education').mean()"
   ]
  },
  {
   "cell_type": "markdown",
   "metadata": {},
   "source": [
    "Students with high school educated parents fared worse than the rest of the group, while students of parents with a bachelor's or master's scored highest on average. "
   ]
  },
  {
   "cell_type": "code",
   "execution_count": 7,
   "metadata": {},
   "outputs": [
    {
     "name": "stdout",
     "output_type": "stream",
     "text": [
      "---------------------\n",
      "Category in testing: math score\n",
      "---------------------\n",
      "ttest between groups bachelor's degree and some college:\n",
      "Ttest_indResult(statistic=1.3702352829617477, pvalue=0.17151224218471559)\n",
      "ttest between groups bachelor's degree and master's degree:\n",
      "Ttest_indResult(statistic=-0.14868196568849312, pvalue=0.8819757824867702)\n",
      "ttest between groups bachelor's degree and associate's degree:\n",
      "Ttest_indResult(statistic=0.8786641889793243, pvalue=0.38020757818036177)\n",
      "ttest between groups bachelor's degree and high school:\n",
      "Ttest_indResult(statistic=4.236143622484822, pvalue=2.9965345853843376e-05)\n",
      "ttest between groups bachelor's degree and some high school:\n",
      "Ttest_indResult(statistic=3.196718602676573, pvalue=0.0015409192922812146)\n",
      "ttest between groups some college and master's degree:\n",
      "Ttest_indResult(statistic=-1.2356334215824571, pvalue=0.21761956810347416)\n",
      "ttest between groups some college and associate's degree:\n",
      "Ttest_indResult(statistic=-0.5426842696247527, pvalue=0.5876182809234072)\n",
      "ttest between groups some college and high school:\n",
      "Ttest_indResult(statistic=3.5461079495681163, pvalue=0.00043498004192453146)\n",
      "ttest between groups some college and some high school:\n",
      "Ttest_indResult(statistic=2.4117046231407633, pvalue=0.016324361572645503)\n",
      "ttest between groups master's degree and associate's degree:\n",
      "Ttest_indResult(statistic=0.8411229688563471, pvalue=0.4009993636124658)\n",
      "ttest between groups master's degree and high school:\n",
      "Ttest_indResult(statistic=3.4893759321890823, pvalue=0.000570929230228812)\n",
      "ttest between groups master's degree and some high school:\n",
      "Ttest_indResult(statistic=2.6442572081925526, pvalue=0.008736228790471057)\n",
      "ttest between groups associate's degree and high school:\n",
      "Ttest_indResult(statistic=3.9481325318265013, pvalue=9.247314274963044e-05)\n",
      "ttest between groups associate's degree and some high school:\n",
      "Ttest_indResult(statistic=2.820053979930256, pvalue=0.005041081492906143)\n",
      "ttest between groups high school and some high school:\n",
      "Ttest_indResult(statistic=-0.8640629490772553, pvalue=0.388108610360687)\n",
      "---------------------\n",
      "Category in testing: reading score\n",
      "---------------------\n",
      "ttest between groups bachelor's degree and some college:\n",
      "Ttest_indResult(statistic=2.2048821209085077, pvalue=0.028127555314401052)\n",
      "ttest between groups bachelor's degree and master's degree:\n",
      "Ttest_indResult(statistic=-1.0540858949475984, pvalue=0.29329675131787897)\n",
      "ttest between groups bachelor's degree and associate's degree:\n",
      "Ttest_indResult(statistic=1.2977969850452833, pvalue=0.19524206483091092)\n",
      "ttest between groups bachelor's degree and high school:\n",
      "Ttest_indResult(statistic=5.017577900835298, pvalue=8.804250310784477e-07)\n",
      "ttest between groups bachelor's degree and some high school:\n",
      "Ttest_indResult(statistic=3.4039270673798745, pvalue=0.0007561971719730451)\n",
      "ttest between groups some college and master's degree:\n",
      "Ttest_indResult(statistic=-2.888843374950649, pvalue=0.004165440800640354)\n",
      "ttest between groups some college and associate's degree:\n",
      "Ttest_indResult(statistic=-1.11231882169149, pvalue=0.26660028539980146)\n",
      "ttest between groups some college and high school:\n",
      "Ttest_indResult(statistic=3.4578427683620334, pvalue=0.0006001048481252139)\n",
      "ttest between groups some college and some high school:\n",
      "Ttest_indResult(statistic=1.714161972758909, pvalue=0.08726786856243877)\n",
      "ttest between groups master's degree and associate's degree:\n",
      "Ttest_indResult(statistic=2.1912015759838686, pvalue=0.02926414570972208)\n",
      "ttest between groups master's degree and high school:\n",
      "Ttest_indResult(statistic=5.113158728723477, pvalue=6.257558119816884e-07)\n",
      "ttest between groups master's degree and some high school:\n",
      "Ttest_indResult(statistic=3.7261574122231513, pvalue=0.00024334552617191513)\n",
      "ttest between groups associate's degree and high school:\n",
      "Ttest_indResult(statistic=4.538021419898997, pvalue=7.442167797135797e-06)\n",
      "ttest between groups associate's degree and some high school:\n",
      "Ttest_indResult(statistic=2.7183602204037927, pvalue=0.006846770119677965)\n",
      "ttest between groups high school and some high school:\n",
      "Ttest_indResult(statistic=-1.461284757591555, pvalue=0.1447791955248275)\n",
      "---------------------\n",
      "Category in testing: writing score\n",
      "---------------------\n",
      "ttest between groups bachelor's degree and some college:\n",
      "Ttest_indResult(statistic=2.6803314684632196, pvalue=0.00771101202367254)\n",
      "ttest between groups bachelor's degree and master's degree:\n",
      "Ttest_indResult(statistic=-0.9998741306804844, pvalue=0.3187519641464658)\n",
      "ttest between groups bachelor's degree and associate's degree:\n",
      "Ttest_indResult(statistic=2.1159296639133762, pvalue=0.03508162451719667)\n",
      "ttest between groups bachelor's degree and high school:\n",
      "Ttest_indResult(statistic=6.547380937127048, pvalue=2.4076253789515874e-10)\n",
      "ttest between groups bachelor's degree and some high school:\n",
      "Ttest_indResult(statistic=4.667733097498242, pvalue=4.628198526834338e-06)\n",
      "ttest between groups some college and master's degree:\n",
      "Ttest_indResult(statistic=-3.1687690632394907, pvalue=0.0016985933135959495)\n",
      "ttest between groups some college and associate's degree:\n",
      "Ttest_indResult(statistic=-0.7615968643953912, pvalue=0.44670316603036575)\n",
      "ttest between groups some college and high school:\n",
      "Ttest_indResult(statistic=4.488520877492127, pvalue=9.275017802620877e-06)\n",
      "ttest between groups some college and some high school:\n",
      "Ttest_indResult(statistic=2.5757211403792417, pvalue=0.010358529086081357)\n",
      "ttest between groups master's degree and associate's degree:\n",
      "Ttest_indResult(statistic=2.78124154906855, pvalue=0.00578403270525775)\n",
      "ttest between groups master's degree and high school:\n",
      "Ttest_indResult(statistic=6.360904883721531, pvalue=9.326930296880332e-10)\n",
      "ttest between groups master's degree and some high school:\n",
      "Ttest_indResult(statistic=4.707583817143559, pvalue=4.275465153074631e-06)\n",
      "ttest between groups associate's degree and high school:\n",
      "Ttest_indResult(statistic=5.348725635626432, pvalue=1.4650545536741998e-07)\n",
      "ttest between groups associate's degree and some high school:\n",
      "Ttest_indResult(statistic=3.3317223453475715, pvalue=0.0009435990258795855)\n",
      "ttest between groups high school and some high school:\n",
      "Ttest_indResult(statistic=-1.5838885273076473, pvalue=0.11406653932963291)\n"
     ]
    }
   ],
   "source": [
    "#Let's test whether these differences are significant. \n",
    "levels= performance['parental level of education'].unique()\n",
    "\n",
    "for var in ['math score', 'reading score', 'writing score']:\n",
    "    print('---------------------')\n",
    "    print('Category in testing: {}'.format(var))\n",
    "    print('---------------------')\n",
    "    for i in range(0, len(levels)):\n",
    "        for j in range(i+1, len(levels)):\n",
    "            print('ttest between groups {} and {}:'.format(levels[i], levels[j]))\n",
    "            print(stats.ttest_ind(\n",
    "                performance[performance['parental level of education'] == levels[i]][var], \n",
    "                performance[performance['parental level of education'] == levels[j]][var]))          "
   ]
  },
  {
   "cell_type": "markdown",
   "metadata": {},
   "source": [
    "2. Are there any differences between the lunch types with respect to their performances in exams? If there are, how do you explain this?"
   ]
  },
  {
   "cell_type": "code",
   "execution_count": 8,
   "metadata": {},
   "outputs": [
    {
     "data": {
      "text/html": [
       "<div>\n",
       "<style scoped>\n",
       "    .dataframe tbody tr th:only-of-type {\n",
       "        vertical-align: middle;\n",
       "    }\n",
       "\n",
       "    .dataframe tbody tr th {\n",
       "        vertical-align: top;\n",
       "    }\n",
       "\n",
       "    .dataframe thead th {\n",
       "        text-align: right;\n",
       "    }\n",
       "</style>\n",
       "<table border=\"1\" class=\"dataframe\">\n",
       "  <thead>\n",
       "    <tr style=\"text-align: right;\">\n",
       "      <th></th>\n",
       "      <th>math score</th>\n",
       "      <th>reading score</th>\n",
       "      <th>writing score</th>\n",
       "    </tr>\n",
       "    <tr>\n",
       "      <th>lunch</th>\n",
       "      <th></th>\n",
       "      <th></th>\n",
       "      <th></th>\n",
       "    </tr>\n",
       "  </thead>\n",
       "  <tbody>\n",
       "    <tr>\n",
       "      <th>free/reduced</th>\n",
       "      <td>58.921127</td>\n",
       "      <td>64.653521</td>\n",
       "      <td>63.022535</td>\n",
       "    </tr>\n",
       "    <tr>\n",
       "      <th>standard</th>\n",
       "      <td>70.034109</td>\n",
       "      <td>71.654264</td>\n",
       "      <td>70.823256</td>\n",
       "    </tr>\n",
       "  </tbody>\n",
       "</table>\n",
       "</div>"
      ],
      "text/plain": [
       "              math score  reading score  writing score\n",
       "lunch                                                 \n",
       "free/reduced   58.921127      64.653521      63.022535\n",
       "standard       70.034109      71.654264      70.823256"
      ]
     },
     "execution_count": 8,
     "metadata": {},
     "output_type": "execute_result"
    }
   ],
   "source": [
    "performance.groupby('lunch').mean()"
   ]
  },
  {
   "cell_type": "code",
   "execution_count": 16,
   "metadata": {},
   "outputs": [
    {
     "data": {
      "text/plain": [
       "Ttest_indResult(statistic=array([-11.83718047,  -7.45105647,  -8.0097842 ]), pvalue=array([2.41319560e-30, 2.00279665e-13, 3.18618958e-15]))"
      ]
     },
     "execution_count": 16,
     "metadata": {},
     "output_type": "execute_result"
    }
   ],
   "source": [
    "stats.ttest_ind(performance[performance['lunch'] == 'free/reduced'][['math score', 'reading score', 'writing score']], \n",
    "               performance[performance['lunch'] == 'standard'][['math score', 'reading score', 'writing score']])"
   ]
  },
  {
   "cell_type": "markdown",
   "metadata": {},
   "source": [
    "There is a sizeable difference between lunch types and exam scores, which is likely due to the lurking variable of socioeconomic status and access to educational resources."
   ]
  },
  {
   "cell_type": "markdown",
   "metadata": {},
   "source": [
    "3. Does the test preparation course seem to have an effect on the exam performances?"
   ]
  },
  {
   "cell_type": "code",
   "execution_count": 9,
   "metadata": {},
   "outputs": [
    {
     "data": {
      "text/html": [
       "<div>\n",
       "<style scoped>\n",
       "    .dataframe tbody tr th:only-of-type {\n",
       "        vertical-align: middle;\n",
       "    }\n",
       "\n",
       "    .dataframe tbody tr th {\n",
       "        vertical-align: top;\n",
       "    }\n",
       "\n",
       "    .dataframe thead th {\n",
       "        text-align: right;\n",
       "    }\n",
       "</style>\n",
       "<table border=\"1\" class=\"dataframe\">\n",
       "  <thead>\n",
       "    <tr style=\"text-align: right;\">\n",
       "      <th></th>\n",
       "      <th>math score</th>\n",
       "      <th>reading score</th>\n",
       "      <th>writing score</th>\n",
       "    </tr>\n",
       "    <tr>\n",
       "      <th>test preparation course</th>\n",
       "      <th></th>\n",
       "      <th></th>\n",
       "      <th></th>\n",
       "    </tr>\n",
       "  </thead>\n",
       "  <tbody>\n",
       "    <tr>\n",
       "      <th>completed</th>\n",
       "      <td>69.695531</td>\n",
       "      <td>73.893855</td>\n",
       "      <td>74.418994</td>\n",
       "    </tr>\n",
       "    <tr>\n",
       "      <th>none</th>\n",
       "      <td>64.077882</td>\n",
       "      <td>66.534268</td>\n",
       "      <td>64.504673</td>\n",
       "    </tr>\n",
       "  </tbody>\n",
       "</table>\n",
       "</div>"
      ],
      "text/plain": [
       "                         math score  reading score  writing score\n",
       "test preparation course                                          \n",
       "completed                 69.695531      73.893855      74.418994\n",
       "none                      64.077882      66.534268      64.504673"
      ]
     },
     "execution_count": 9,
     "metadata": {},
     "output_type": "execute_result"
    }
   ],
   "source": [
    "performance.groupby('test preparation course').mean()"
   ]
  },
  {
   "cell_type": "code",
   "execution_count": 10,
   "metadata": {},
   "outputs": [
    {
     "data": {
      "text/plain": [
       "Ttest_indResult(statistic=5.704616417349102, pvalue=1.5359134607147415e-08)"
      ]
     },
     "execution_count": 10,
     "metadata": {},
     "output_type": "execute_result"
    }
   ],
   "source": [
    "stats.ttest_ind(performance[performance['test preparation course'] == 'completed']['math score'], \n",
    "         performance[performance['test preparation course'] == 'none']['math score'])"
   ]
  },
  {
   "cell_type": "markdown",
   "metadata": {},
   "source": [
    "Yes, the math scores, which had the smallest difference in exam scores with regards to test prep, displayed a significant difference with a very low p-value. "
   ]
  },
  {
   "cell_type": "markdown",
   "metadata": {},
   "source": [
    "4. Which 2 exam scores are most correlated with each other?"
   ]
  },
  {
   "cell_type": "code",
   "execution_count": 11,
   "metadata": {},
   "outputs": [
    {
     "data": {
      "image/png": "[encoded data removed]",
      "text/plain": [
       "<Figure size 720x576 with 2 Axes>"
      ]
     },
     "metadata": {
      "needs_background": "light"
     },
     "output_type": "display_data"
    }
   ],
   "source": [
    "corrperformance= performance.corr()\n",
    "\n",
    "plt.figure(figsize=(10, 8))\n",
    "\n",
    "sns.heatmap(corrperformance, annot=True, square=True, linewidths= 2).set_title('Correlation of exam scores')\n",
    "\n",
    "plt.tight_layout()\n",
    "plt.show()"
   ]
  },
  {
   "cell_type": "markdown",
   "metadata": {},
   "source": [
    "Reading and writing are the most highly correlated, with a 0.95 coefficient. "
   ]
  }
 ],
 "metadata": {
  "kernelspec": {
   "display_name": "Python 3",
   "language": "python",
   "name": "python3"
  },
  "language_info": {
   "codemirror_mode": {
    "name": "ipython",
    "version": 3
   },
   "file_extension": ".py",
   "mimetype": "text/x-python",
   "name": "python",
   "nbconvert_exporter": "python",
   "pygments_lexer": "ipython3",
   "version": "3.7.2"
  }
 },
 "nbformat": 4,
 "nbformat_minor": 2
}
