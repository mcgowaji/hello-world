{
 "cells": [
  {
   "cell_type": "code",
   "execution_count": 45,
   "metadata": {},
   "outputs": [],
   "source": [
    "import matplotlib.pyplot as plt\n",
    "import pandas as pd\n",
    "import numpy as np\n",
    "import scipy\n",
    "%matplotlib inline"
   ]
  },
  {
   "cell_type": "code",
   "execution_count": 46,
   "metadata": {},
   "outputs": [
    {
     "data": {
      "image/png": "[encoded data removed]",
      "text/plain": [
       "<Figure size 432x288 with 1 Axes>"
      ]
     },
     "metadata": {
      "needs_background": "light"
     },
     "output_type": "display_data"
    }
   ],
   "source": [
    "gamma= np.random.gamma(10, 3, 100)\n",
    "plt.hist(normal)\n",
    "plt.axvline(normal.mean(), color= 'yellow', linestyle='solid')\n",
    "plt.axvline(normal.mean() + normal.std(), color= 'red', linestyle='dashed', linewidth= 3)\n",
    "plt.axvline(normal.mean() - normal.std(), color= 'red', linestyle='dashed', linewidth= 3)\n",
    "plt.show()"
   ]
  },
  {
   "cell_type": "markdown",
   "metadata": {},
   "source": [
    "The standard deviation is rather large, and much more of the values fall within 1 or 2 standard deviations than that of a normal distribution. The mean describes the point at which the event becomes less likely to occur."
   ]
  },
  {
   "cell_type": "code",
   "execution_count": 47,
   "metadata": {},
   "outputs": [
    {
     "data": {
      "image/png": "[encoded data removed]",
      "text/plain": [
       "<Figure size 432x288 with 1 Axes>"
      ]
     },
     "metadata": {
      "needs_background": "light"
     },
     "output_type": "display_data"
    }
   ],
   "source": [
    "norm1= np.random.normal(5, 0.5, 100)\n",
    "norm2= np.random.normal(10, 1, 100)\n",
    "norm3= norm1+norm2\n",
    "plt.hist(norm3)\n",
    "plt.axvline(norm3.mean(), linestyle= 'solid', linewidth= 2)\n",
    "plt.axvline(norm3.mean() + norm3.std(), linestyle= 'dotted', linewidth= 2)\n",
    "plt.axvline(norm3.mean() - norm3.std(), linestyle= 'dotted', linewidth= 2)\n",
    "plt.show()"
   ]
  },
  {
   "cell_type": "markdown",
   "metadata": {},
   "source": [
    "The mean seemed to have combined the 2 other distributions' means, but the standard deviation stayed at around 1. Though the numbers are larger, they have stayed even closer to the mean, expressing less variation in individual values."
   ]
  },
  {
   "cell_type": "markdown",
   "metadata": {},
   "source": [
    "*7.9 Drills- Sampling and the Central Limit Theorem*\n"
   ]
  },
  {
   "cell_type": "code",
   "execution_count": 64,
   "metadata": {},
   "outputs": [
    {
     "name": "stdout",
     "output_type": "stream",
     "text": [
      "4.0135\n",
      "5.0125\n",
      "1.557407380873739\n",
      "1.5638873840529568\n",
      "3.99\n",
      "5.05\n",
      "1.60309076474166\n",
      "1.4026760139105539\n"
     ]
    }
   ],
   "source": [
    "\n",
    "pop1= np.random.binomial(10, 0.4, 10000)\n",
    "pop2= np.random.binomial(10, 0.5, 10000)\n",
    "sample1= np.random.choice(pop1, 100, replace=True)\n",
    "sample2= np.random.choice(pop2, 100, replace=True)\n",
    "print(pop1.mean())\n",
    "print(pop2.mean())\n",
    "print(pop1.std())\n",
    "print(pop2.std())\n",
    "print(sample1.mean())\n",
    "print(sample2.mean())\n",
    "print(sample1.std())\n",
    "print(sample2.std())"
   ]
  },
  {
   "cell_type": "code",
   "execution_count": 65,
   "metadata": {},
   "outputs": [
    {
     "name": "stdout",
     "output_type": "stream",
     "text": [
      "4.045\n",
      "4.91\n",
      "1.578915767227625\n",
      "1.5498064395272073\n"
     ]
    }
   ],
   "source": [
    "#1 Increase and decrease size of samples, calculating means and standard deviations each time.\n",
    "#Ans: I expect the mean and SD to be much closer for large sample, and very variant in small ones.\n",
    "sample1= np.random.choice(pop1, 1000, replace=True)\n",
    "sample2= np.random.choice(pop2, 1000, replace=True)\n",
    "print(sample1.mean())\n",
    "print(sample2.mean())\n",
    "print(sample1.std())\n",
    "print(sample2.std())"
   ]
  },
  {
   "cell_type": "code",
   "execution_count": 66,
   "metadata": {},
   "outputs": [
    {
     "data": {
      "image/png": "[encoded data removed]",
      "text/plain": [
       "<Figure size 432x288 with 1 Axes>"
      ]
     },
     "metadata": {
      "needs_background": "light"
     },
     "output_type": "display_data"
    }
   ],
   "source": [
    "#Histograms\n",
    "plt.hist(sample1, label='Sample 1', color='red')\n",
    "plt.axvline(sample1.mean(), color='blue', linestyle= 'solid')\n",
    "plt.hist(sample2, label='Sample 2', color= 'c')\n",
    "plt.axvline(sample2.mean(), color='blue', linestyle= 'solid')\n",
    "plt.legend(loc='upper right')\n",
    "plt.show()"
   ]
  },
  {
   "cell_type": "code",
   "execution_count": 67,
   "metadata": {},
   "outputs": [
    {
     "name": "stdout",
     "output_type": "stream",
     "text": [
      "4.0\n",
      "4.95\n",
      "1.5811388300841898\n",
      "1.2835497652993437\n"
     ]
    }
   ],
   "source": [
    "sample1= np.random.choice(pop1, 20, replace=True)\n",
    "sample2= np.random.choice(pop2, 20, replace=True)\n",
    "print(sample1.mean())\n",
    "print(sample2.mean())\n",
    "print(sample1.std())\n",
    "print(sample2.std())"
   ]
  },
  {
   "cell_type": "code",
   "execution_count": 68,
   "metadata": {},
   "outputs": [
    {
     "data": {
      "image/png": "[encoded data removed]",
      "text/plain": [
       "<Figure size 432x288 with 1 Axes>"
      ]
     },
     "metadata": {
      "needs_background": "light"
     },
     "output_type": "display_data"
    }
   ],
   "source": [
    "plt.hist(sample1, label='Sample 1', color='red')\n",
    "plt.axvline(sample1.mean(), color='blue', linestyle= 'solid')\n",
    "plt.hist(sample2, label='Sample 2', color= 'y')\n",
    "plt.axvline(sample2.mean(), color='blue', linestyle= 'solid')\n",
    "plt.legend(loc='upper right')\n",
    "plt.show()"
   ]
  },
  {
   "cell_type": "code",
   "execution_count": 69,
   "metadata": {},
   "outputs": [
    {
     "name": "stdout",
     "output_type": "stream",
     "text": [
      "3.8\n",
      "5.05\n",
      "1.6186414056238645\n",
      "1.5771810295587503\n"
     ]
    }
   ],
   "source": [
    "sample1= np.random.choice(pop1, 100, replace=True)\n",
    "sample2= np.random.choice(pop2, 100, replace=True)\n",
    "print(sample1.mean())\n",
    "print(sample2.mean())\n",
    "print(sample1.std())\n",
    "print(sample2.std())"
   ]
  },
  {
   "cell_type": "code",
   "execution_count": 70,
   "metadata": {},
   "outputs": [
    {
     "data": {
      "text/plain": [
       "Ttest_indResult(statistic=-5.503302972973122, pvalue=1.1458197715907442e-07)"
      ]
     },
     "execution_count": 70,
     "metadata": {},
     "output_type": "execute_result"
    }
   ],
   "source": [
    "from scipy.stats import ttest_ind\n",
    "ttest_ind(sample1, sample2, equal_var=False)"
   ]
  },
  {
   "cell_type": "code",
   "execution_count": null,
   "metadata": {},
   "outputs": [],
   "source": [
    "#The t-value changed from -9.7 to -5.5 after raising pop1's \"p\" from 0.3 to 0.4, indicating\n",
    "#the means are about 5 standard errors closer together. "
   ]
  }
 ],
 "metadata": {
  "kernelspec": {
   "display_name": "Python 3",
   "language": "python",
   "name": "python3"
  },
  "language_info": {
   "codemirror_mode": {
    "name": "ipython",
    "version": 3
   },
   "file_extension": ".py",
   "mimetype": "text/x-python",
   "name": "python",
   "nbconvert_exporter": "python",
   "pygments_lexer": "ipython3",
   "version": "3.7.2"
  }
 },
 "nbformat": 4,
 "nbformat_minor": 2
}
