{
 "cells": [
  {
   "cell_type": "code",
   "execution_count": 1,
   "metadata": {},
   "outputs": [],
   "source": [
    "import matplotlib.pyplot as plt\n",
    "import pandas as pd\n",
    "import numpy as np\n",
    "%matplotlib inline"
   ]
  },
  {
   "cell_type": "code",
   "execution_count": 10,
   "metadata": {},
   "outputs": [
    {
     "data": {
      "image/png": "[encoded data removed]",
      "text/plain": [
       "<Figure size 432x288 with 1 Axes>"
      ]
     },
     "metadata": {
      "needs_background": "light"
     },
     "output_type": "display_data"
    }
   ],
   "source": [
    "gamma= np.random.gamma(10, 3, 100)\n",
    "plt.hist(normal)\n",
    "plt.axvline(normal.mean(), color= 'yellow', linestyle='solid')\n",
    "plt.axvline(normal.mean() + normal.std(), color= 'red', linestyle='dashed', linewidth= 3)\n",
    "plt.axvline(normal.mean() - normal.std(), color= 'red', linestyle='dashed', linewidth= 3)\n",
    "plt.show()"
   ]
  },
  {
   "cell_type": "markdown",
   "metadata": {},
   "source": [
    "The standard deviation is rather large, and much more of the values fall within 1 or 2 standard deviations than that of a normal distribution. The mean describes the point at which the event becomes less likely to occur."
   ]
  },
  {
   "cell_type": "code",
   "execution_count": 12,
   "metadata": {},
   "outputs": [
    {
     "data": {
      "image/png": "[encoded data removed]",
      "text/plain": [
       "<Figure size 432x288 with 1 Axes>"
      ]
     },
     "metadata": {
      "needs_background": "light"
     },
     "output_type": "display_data"
    }
   ],
   "source": [
    "norm1= np.random.normal(5, 0.5, 100)\n",
    "norm2= np.random.normal(10, 1, 100)\n",
    "norm3= norm1+norm2\n",
    "plt.hist(norm3)\n",
    "plt.axvline(norm3.mean(), linestyle= 'solid', linewidth= 2)\n",
    "plt.axvline(norm3.mean() + norm3.std(), linestyle= 'dotted', linewidth= 2)\n",
    "plt.axvline(norm3.mean() - norm3.std(), linestyle= 'dotted', linewidth= 2)\n",
    "plt.show()"
   ]
  },
  {
   "cell_type": "markdown",
   "metadata": {},
   "source": [
    "The mean seemed to have combined the 2 other distributions' means, but the standard deviation stayed at around 1. Though the numbers are larger, they have stayed even closer to the mean, expressing less variation in individual values."
   ]
  },
  {
   "cell_type": "code",
   "execution_count": null,
   "metadata": {},
   "outputs": [],
   "source": []
  },
  {
   "cell_type": "code",
   "execution_count": null,
   "metadata": {},
   "outputs": [],
   "source": []
  }
 ],
 "metadata": {
  "kernelspec": {
   "display_name": "Python 3",
   "language": "python",
   "name": "python3"
  },
  "language_info": {
   "codemirror_mode": {
    "name": "ipython",
    "version": 3
   },
   "file_extension": ".py",
   "mimetype": "text/x-python",
   "name": "python",
   "nbconvert_exporter": "python",
   "pygments_lexer": "ipython3",
   "version": "3.7.2"
  }
 },
 "nbformat": 4,
 "nbformat_minor": 2
}
